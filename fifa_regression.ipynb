{
 "cells": [
  {
   "cell_type": "markdown",
   "id": "70494c7c",
   "metadata": {},
   "source": [
    "## Objective: To find value of a player which would vary based on different factors"
   ]
  },
  {
   "cell_type": "markdown",
   "id": "2e1dbdd4",
   "metadata": {},
   "source": [
    "### Usage: This model would be helpful for clubs when they try to sign a player having certain factors, so depending upon their requirement they can find an estimated value of player"
   ]
  },
  {
   "cell_type": "code",
   "execution_count": 1,
   "id": "e070b909",
   "metadata": {},
   "outputs": [
    {
     "name": "stderr",
     "output_type": "stream",
     "text": [
      "C:\\Users\\yasha\\anaconda3\\lib\\site-packages\\scipy\\__init__.py:146: UserWarning: A NumPy version >=1.16.5 and <1.23.0 is required for this version of SciPy (detected version 1.24.4\n",
      "  warnings.warn(f\"A NumPy version >={np_minversion} and <{np_maxversion}\"\n"
     ]
    }
   ],
   "source": [
    "import numpy as np\n",
    "import pandas as pd\n",
    "import matplotlib.pyplot as plt\n",
    "import seaborn as sns\n",
    "from sklearn.preprocessing import MinMaxScaler, LabelEncoder\n",
    "from sklearn.model_selection import train_test_split\n",
    "import warnings\n",
    "warnings.filterwarnings('ignore')"
   ]
  },
  {
   "cell_type": "code",
   "execution_count": 2,
   "id": "e2beb751",
   "metadata": {},
   "outputs": [],
   "source": [
    "df=pd.read_csv('fifa_eda.csv')"
   ]
  },
  {
   "cell_type": "code",
   "execution_count": 3,
   "id": "0b6e866c",
   "metadata": {},
   "outputs": [],
   "source": [
    "a = pd.DataFrame(df['Contract Valid Until'].str.split('-'))"
   ]
  },
  {
   "cell_type": "code",
   "execution_count": 4,
   "id": "a148ff80",
   "metadata": {},
   "outputs": [
    {
     "data": {
      "text/plain": [
       "Index(['ID', 'Name', 'Age', 'Nationality', 'Overall', 'Potential', 'Club',\n",
       "       'Value', 'Wage', 'Preferred Foot', 'International Reputation',\n",
       "       'Skill Moves', 'Position', 'Joined', 'Contract Valid Until', 'Height',\n",
       "       'Weight', 'Release Clause'],\n",
       "      dtype='object')"
      ]
     },
     "execution_count": 4,
     "metadata": {},
     "output_type": "execute_result"
    }
   ],
   "source": [
    "df.columns"
   ]
  },
  {
   "cell_type": "code",
   "execution_count": 5,
   "id": "fd690cca",
   "metadata": {},
   "outputs": [
    {
     "data": {
      "text/html": [
       "<div>\n",
       "<style scoped>\n",
       "    .dataframe tbody tr th:only-of-type {\n",
       "        vertical-align: middle;\n",
       "    }\n",
       "\n",
       "    .dataframe tbody tr th {\n",
       "        vertical-align: top;\n",
       "    }\n",
       "\n",
       "    .dataframe thead th {\n",
       "        text-align: right;\n",
       "    }\n",
       "</style>\n",
       "<table border=\"1\" class=\"dataframe\">\n",
       "  <thead>\n",
       "    <tr style=\"text-align: right;\">\n",
       "      <th></th>\n",
       "      <th>ID</th>\n",
       "      <th>Name</th>\n",
       "      <th>Age</th>\n",
       "      <th>Nationality</th>\n",
       "      <th>Overall</th>\n",
       "      <th>Potential</th>\n",
       "      <th>Club</th>\n",
       "      <th>Value</th>\n",
       "      <th>Wage</th>\n",
       "      <th>Preferred Foot</th>\n",
       "      <th>International Reputation</th>\n",
       "      <th>Skill Moves</th>\n",
       "      <th>Position</th>\n",
       "      <th>Joined</th>\n",
       "      <th>Contract Valid Until</th>\n",
       "      <th>Height</th>\n",
       "      <th>Weight</th>\n",
       "      <th>Release Clause</th>\n",
       "    </tr>\n",
       "  </thead>\n",
       "  <tbody>\n",
       "    <tr>\n",
       "      <th>0</th>\n",
       "      <td>158023</td>\n",
       "      <td>L. Messi</td>\n",
       "      <td>31</td>\n",
       "      <td>Argentina</td>\n",
       "      <td>94</td>\n",
       "      <td>94</td>\n",
       "      <td>FC Barcelona</td>\n",
       "      <td>110500.0</td>\n",
       "      <td>565.0</td>\n",
       "      <td>Left</td>\n",
       "      <td>5.0</td>\n",
       "      <td>4.0</td>\n",
       "      <td>RF</td>\n",
       "      <td>2004</td>\n",
       "      <td>2021-01-01</td>\n",
       "      <td>5.583333</td>\n",
       "      <td>159.0</td>\n",
       "      <td>226500.0</td>\n",
       "    </tr>\n",
       "    <tr>\n",
       "      <th>1</th>\n",
       "      <td>20801</td>\n",
       "      <td>Cristiano Ronaldo</td>\n",
       "      <td>33</td>\n",
       "      <td>Portugal</td>\n",
       "      <td>94</td>\n",
       "      <td>94</td>\n",
       "      <td>Juventus</td>\n",
       "      <td>77000.0</td>\n",
       "      <td>405.0</td>\n",
       "      <td>Right</td>\n",
       "      <td>5.0</td>\n",
       "      <td>5.0</td>\n",
       "      <td>ST</td>\n",
       "      <td>2018</td>\n",
       "      <td>2022-01-01</td>\n",
       "      <td>6.166667</td>\n",
       "      <td>183.0</td>\n",
       "      <td>127100.0</td>\n",
       "    </tr>\n",
       "    <tr>\n",
       "      <th>2</th>\n",
       "      <td>190871</td>\n",
       "      <td>Neymar Jr</td>\n",
       "      <td>26</td>\n",
       "      <td>Brazil</td>\n",
       "      <td>92</td>\n",
       "      <td>93</td>\n",
       "      <td>Paris Saint-Germain</td>\n",
       "      <td>118500.0</td>\n",
       "      <td>290.0</td>\n",
       "      <td>Right</td>\n",
       "      <td>5.0</td>\n",
       "      <td>5.0</td>\n",
       "      <td>LW</td>\n",
       "      <td>2017</td>\n",
       "      <td>2022-01-01</td>\n",
       "      <td>5.750000</td>\n",
       "      <td>150.0</td>\n",
       "      <td>228100.0</td>\n",
       "    </tr>\n",
       "    <tr>\n",
       "      <th>3</th>\n",
       "      <td>193080</td>\n",
       "      <td>De Gea</td>\n",
       "      <td>27</td>\n",
       "      <td>Spain</td>\n",
       "      <td>91</td>\n",
       "      <td>93</td>\n",
       "      <td>Manchester United</td>\n",
       "      <td>72000.0</td>\n",
       "      <td>260.0</td>\n",
       "      <td>Right</td>\n",
       "      <td>4.0</td>\n",
       "      <td>1.0</td>\n",
       "      <td>GK</td>\n",
       "      <td>2011</td>\n",
       "      <td>2020-01-01</td>\n",
       "      <td>6.333333</td>\n",
       "      <td>168.0</td>\n",
       "      <td>138600.0</td>\n",
       "    </tr>\n",
       "    <tr>\n",
       "      <th>4</th>\n",
       "      <td>192985</td>\n",
       "      <td>K. De Bruyne</td>\n",
       "      <td>27</td>\n",
       "      <td>Belgium</td>\n",
       "      <td>91</td>\n",
       "      <td>92</td>\n",
       "      <td>Manchester City</td>\n",
       "      <td>102000.0</td>\n",
       "      <td>355.0</td>\n",
       "      <td>Right</td>\n",
       "      <td>4.0</td>\n",
       "      <td>4.0</td>\n",
       "      <td>RCM</td>\n",
       "      <td>2015</td>\n",
       "      <td>2023-01-01</td>\n",
       "      <td>5.916667</td>\n",
       "      <td>154.0</td>\n",
       "      <td>196400.0</td>\n",
       "    </tr>\n",
       "    <tr>\n",
       "      <th>...</th>\n",
       "      <td>...</td>\n",
       "      <td>...</td>\n",
       "      <td>...</td>\n",
       "      <td>...</td>\n",
       "      <td>...</td>\n",
       "      <td>...</td>\n",
       "      <td>...</td>\n",
       "      <td>...</td>\n",
       "      <td>...</td>\n",
       "      <td>...</td>\n",
       "      <td>...</td>\n",
       "      <td>...</td>\n",
       "      <td>...</td>\n",
       "      <td>...</td>\n",
       "      <td>...</td>\n",
       "      <td>...</td>\n",
       "      <td>...</td>\n",
       "      <td>...</td>\n",
       "    </tr>\n",
       "    <tr>\n",
       "      <th>18202</th>\n",
       "      <td>238813</td>\n",
       "      <td>J. Lundstram</td>\n",
       "      <td>19</td>\n",
       "      <td>England</td>\n",
       "      <td>47</td>\n",
       "      <td>65</td>\n",
       "      <td>Crewe Alexandra</td>\n",
       "      <td>60.0</td>\n",
       "      <td>1.0</td>\n",
       "      <td>Right</td>\n",
       "      <td>1.0</td>\n",
       "      <td>2.0</td>\n",
       "      <td>CM</td>\n",
       "      <td>2017</td>\n",
       "      <td>2019-01-01</td>\n",
       "      <td>5.750000</td>\n",
       "      <td>134.0</td>\n",
       "      <td>143.0</td>\n",
       "    </tr>\n",
       "    <tr>\n",
       "      <th>18203</th>\n",
       "      <td>243165</td>\n",
       "      <td>N. Christoffersson</td>\n",
       "      <td>19</td>\n",
       "      <td>Sweden</td>\n",
       "      <td>47</td>\n",
       "      <td>63</td>\n",
       "      <td>Trelleborgs FF</td>\n",
       "      <td>60.0</td>\n",
       "      <td>1.0</td>\n",
       "      <td>Right</td>\n",
       "      <td>1.0</td>\n",
       "      <td>2.0</td>\n",
       "      <td>ST</td>\n",
       "      <td>2018</td>\n",
       "      <td>2020-01-01</td>\n",
       "      <td>6.250000</td>\n",
       "      <td>170.0</td>\n",
       "      <td>113.0</td>\n",
       "    </tr>\n",
       "    <tr>\n",
       "      <th>18204</th>\n",
       "      <td>241638</td>\n",
       "      <td>B. Worman</td>\n",
       "      <td>16</td>\n",
       "      <td>England</td>\n",
       "      <td>47</td>\n",
       "      <td>67</td>\n",
       "      <td>Cambridge United</td>\n",
       "      <td>60.0</td>\n",
       "      <td>1.0</td>\n",
       "      <td>Right</td>\n",
       "      <td>1.0</td>\n",
       "      <td>2.0</td>\n",
       "      <td>ST</td>\n",
       "      <td>2017</td>\n",
       "      <td>2021-01-01</td>\n",
       "      <td>5.666667</td>\n",
       "      <td>148.0</td>\n",
       "      <td>165.0</td>\n",
       "    </tr>\n",
       "    <tr>\n",
       "      <th>18205</th>\n",
       "      <td>246268</td>\n",
       "      <td>D. Walker-Rice</td>\n",
       "      <td>17</td>\n",
       "      <td>England</td>\n",
       "      <td>47</td>\n",
       "      <td>66</td>\n",
       "      <td>Tranmere Rovers</td>\n",
       "      <td>60.0</td>\n",
       "      <td>1.0</td>\n",
       "      <td>Right</td>\n",
       "      <td>1.0</td>\n",
       "      <td>2.0</td>\n",
       "      <td>RW</td>\n",
       "      <td>2018</td>\n",
       "      <td>2019-01-01</td>\n",
       "      <td>5.833333</td>\n",
       "      <td>154.0</td>\n",
       "      <td>143.0</td>\n",
       "    </tr>\n",
       "    <tr>\n",
       "      <th>18206</th>\n",
       "      <td>246269</td>\n",
       "      <td>G. Nugent</td>\n",
       "      <td>16</td>\n",
       "      <td>England</td>\n",
       "      <td>46</td>\n",
       "      <td>66</td>\n",
       "      <td>Tranmere Rovers</td>\n",
       "      <td>60.0</td>\n",
       "      <td>1.0</td>\n",
       "      <td>Right</td>\n",
       "      <td>1.0</td>\n",
       "      <td>2.0</td>\n",
       "      <td>CM</td>\n",
       "      <td>2018</td>\n",
       "      <td>2019-01-01</td>\n",
       "      <td>5.833333</td>\n",
       "      <td>176.0</td>\n",
       "      <td>165.0</td>\n",
       "    </tr>\n",
       "  </tbody>\n",
       "</table>\n",
       "<p>18207 rows × 18 columns</p>\n",
       "</div>"
      ],
      "text/plain": [
       "           ID                Name  Age Nationality  Overall  Potential  \\\n",
       "0      158023            L. Messi   31   Argentina       94         94   \n",
       "1       20801   Cristiano Ronaldo   33    Portugal       94         94   \n",
       "2      190871           Neymar Jr   26      Brazil       92         93   \n",
       "3      193080              De Gea   27       Spain       91         93   \n",
       "4      192985        K. De Bruyne   27     Belgium       91         92   \n",
       "...       ...                 ...  ...         ...      ...        ...   \n",
       "18202  238813        J. Lundstram   19     England       47         65   \n",
       "18203  243165  N. Christoffersson   19      Sweden       47         63   \n",
       "18204  241638           B. Worman   16     England       47         67   \n",
       "18205  246268      D. Walker-Rice   17     England       47         66   \n",
       "18206  246269           G. Nugent   16     England       46         66   \n",
       "\n",
       "                      Club     Value   Wage Preferred Foot  \\\n",
       "0             FC Barcelona  110500.0  565.0           Left   \n",
       "1                 Juventus   77000.0  405.0          Right   \n",
       "2      Paris Saint-Germain  118500.0  290.0          Right   \n",
       "3        Manchester United   72000.0  260.0          Right   \n",
       "4          Manchester City  102000.0  355.0          Right   \n",
       "...                    ...       ...    ...            ...   \n",
       "18202      Crewe Alexandra      60.0    1.0          Right   \n",
       "18203       Trelleborgs FF      60.0    1.0          Right   \n",
       "18204     Cambridge United      60.0    1.0          Right   \n",
       "18205      Tranmere Rovers      60.0    1.0          Right   \n",
       "18206      Tranmere Rovers      60.0    1.0          Right   \n",
       "\n",
       "       International Reputation  Skill Moves Position  Joined  \\\n",
       "0                           5.0          4.0       RF    2004   \n",
       "1                           5.0          5.0       ST    2018   \n",
       "2                           5.0          5.0       LW    2017   \n",
       "3                           4.0          1.0       GK    2011   \n",
       "4                           4.0          4.0      RCM    2015   \n",
       "...                         ...          ...      ...     ...   \n",
       "18202                       1.0          2.0       CM    2017   \n",
       "18203                       1.0          2.0       ST    2018   \n",
       "18204                       1.0          2.0       ST    2017   \n",
       "18205                       1.0          2.0       RW    2018   \n",
       "18206                       1.0          2.0       CM    2018   \n",
       "\n",
       "      Contract Valid Until    Height  Weight  Release Clause  \n",
       "0               2021-01-01  5.583333   159.0        226500.0  \n",
       "1               2022-01-01  6.166667   183.0        127100.0  \n",
       "2               2022-01-01  5.750000   150.0        228100.0  \n",
       "3               2020-01-01  6.333333   168.0        138600.0  \n",
       "4               2023-01-01  5.916667   154.0        196400.0  \n",
       "...                    ...       ...     ...             ...  \n",
       "18202           2019-01-01  5.750000   134.0           143.0  \n",
       "18203           2020-01-01  6.250000   170.0           113.0  \n",
       "18204           2021-01-01  5.666667   148.0           165.0  \n",
       "18205           2019-01-01  5.833333   154.0           143.0  \n",
       "18206           2019-01-01  5.833333   176.0           165.0  \n",
       "\n",
       "[18207 rows x 18 columns]"
      ]
     },
     "execution_count": 5,
     "metadata": {},
     "output_type": "execute_result"
    }
   ],
   "source": [
    "df"
   ]
  },
  {
   "cell_type": "code",
   "execution_count": 6,
   "id": "edbb5d6d",
   "metadata": {},
   "outputs": [],
   "source": [
    "# dropping ID and contract column as they may be irrelevant\n",
    "\n",
    "df=df.drop(columns=['ID','Contract Valid Until'],axis=1)"
   ]
  },
  {
   "cell_type": "code",
   "execution_count": 7,
   "id": "ccc1db0c",
   "metadata": {},
   "outputs": [
    {
     "data": {
      "text/plain": [
       "(18207, 16)"
      ]
     },
     "execution_count": 7,
     "metadata": {},
     "output_type": "execute_result"
    }
   ],
   "source": [
    "# checking the dimensions of dataset after removing the above 2 columns\n",
    "\n",
    "df.shape"
   ]
  },
  {
   "cell_type": "code",
   "execution_count": 8,
   "id": "e277859f",
   "metadata": {},
   "outputs": [
    {
     "data": {
      "text/html": [
       "<div>\n",
       "<style scoped>\n",
       "    .dataframe tbody tr th:only-of-type {\n",
       "        vertical-align: middle;\n",
       "    }\n",
       "\n",
       "    .dataframe tbody tr th {\n",
       "        vertical-align: top;\n",
       "    }\n",
       "\n",
       "    .dataframe thead th {\n",
       "        text-align: right;\n",
       "    }\n",
       "</style>\n",
       "<table border=\"1\" class=\"dataframe\">\n",
       "  <thead>\n",
       "    <tr style=\"text-align: right;\">\n",
       "      <th></th>\n",
       "      <th>Name</th>\n",
       "      <th>Age</th>\n",
       "      <th>Nationality</th>\n",
       "      <th>Overall</th>\n",
       "      <th>Potential</th>\n",
       "      <th>Club</th>\n",
       "      <th>Value</th>\n",
       "      <th>Wage</th>\n",
       "      <th>Preferred Foot</th>\n",
       "      <th>International Reputation</th>\n",
       "      <th>Skill Moves</th>\n",
       "      <th>Position</th>\n",
       "      <th>Joined</th>\n",
       "      <th>Height</th>\n",
       "      <th>Weight</th>\n",
       "      <th>Release Clause</th>\n",
       "    </tr>\n",
       "  </thead>\n",
       "  <tbody>\n",
       "    <tr>\n",
       "      <th>0</th>\n",
       "      <td>L. Messi</td>\n",
       "      <td>31</td>\n",
       "      <td>Argentina</td>\n",
       "      <td>94</td>\n",
       "      <td>94</td>\n",
       "      <td>FC Barcelona</td>\n",
       "      <td>110500.0</td>\n",
       "      <td>565.0</td>\n",
       "      <td>Left</td>\n",
       "      <td>5.0</td>\n",
       "      <td>4.0</td>\n",
       "      <td>RF</td>\n",
       "      <td>2004</td>\n",
       "      <td>5.583333</td>\n",
       "      <td>159.0</td>\n",
       "      <td>226500.0</td>\n",
       "    </tr>\n",
       "    <tr>\n",
       "      <th>1</th>\n",
       "      <td>Cristiano Ronaldo</td>\n",
       "      <td>33</td>\n",
       "      <td>Portugal</td>\n",
       "      <td>94</td>\n",
       "      <td>94</td>\n",
       "      <td>Juventus</td>\n",
       "      <td>77000.0</td>\n",
       "      <td>405.0</td>\n",
       "      <td>Right</td>\n",
       "      <td>5.0</td>\n",
       "      <td>5.0</td>\n",
       "      <td>ST</td>\n",
       "      <td>2018</td>\n",
       "      <td>6.166667</td>\n",
       "      <td>183.0</td>\n",
       "      <td>127100.0</td>\n",
       "    </tr>\n",
       "    <tr>\n",
       "      <th>2</th>\n",
       "      <td>Neymar Jr</td>\n",
       "      <td>26</td>\n",
       "      <td>Brazil</td>\n",
       "      <td>92</td>\n",
       "      <td>93</td>\n",
       "      <td>Paris Saint-Germain</td>\n",
       "      <td>118500.0</td>\n",
       "      <td>290.0</td>\n",
       "      <td>Right</td>\n",
       "      <td>5.0</td>\n",
       "      <td>5.0</td>\n",
       "      <td>LW</td>\n",
       "      <td>2017</td>\n",
       "      <td>5.750000</td>\n",
       "      <td>150.0</td>\n",
       "      <td>228100.0</td>\n",
       "    </tr>\n",
       "    <tr>\n",
       "      <th>3</th>\n",
       "      <td>De Gea</td>\n",
       "      <td>27</td>\n",
       "      <td>Spain</td>\n",
       "      <td>91</td>\n",
       "      <td>93</td>\n",
       "      <td>Manchester United</td>\n",
       "      <td>72000.0</td>\n",
       "      <td>260.0</td>\n",
       "      <td>Right</td>\n",
       "      <td>4.0</td>\n",
       "      <td>1.0</td>\n",
       "      <td>GK</td>\n",
       "      <td>2011</td>\n",
       "      <td>6.333333</td>\n",
       "      <td>168.0</td>\n",
       "      <td>138600.0</td>\n",
       "    </tr>\n",
       "    <tr>\n",
       "      <th>4</th>\n",
       "      <td>K. De Bruyne</td>\n",
       "      <td>27</td>\n",
       "      <td>Belgium</td>\n",
       "      <td>91</td>\n",
       "      <td>92</td>\n",
       "      <td>Manchester City</td>\n",
       "      <td>102000.0</td>\n",
       "      <td>355.0</td>\n",
       "      <td>Right</td>\n",
       "      <td>4.0</td>\n",
       "      <td>4.0</td>\n",
       "      <td>RCM</td>\n",
       "      <td>2015</td>\n",
       "      <td>5.916667</td>\n",
       "      <td>154.0</td>\n",
       "      <td>196400.0</td>\n",
       "    </tr>\n",
       "    <tr>\n",
       "      <th>...</th>\n",
       "      <td>...</td>\n",
       "      <td>...</td>\n",
       "      <td>...</td>\n",
       "      <td>...</td>\n",
       "      <td>...</td>\n",
       "      <td>...</td>\n",
       "      <td>...</td>\n",
       "      <td>...</td>\n",
       "      <td>...</td>\n",
       "      <td>...</td>\n",
       "      <td>...</td>\n",
       "      <td>...</td>\n",
       "      <td>...</td>\n",
       "      <td>...</td>\n",
       "      <td>...</td>\n",
       "      <td>...</td>\n",
       "    </tr>\n",
       "    <tr>\n",
       "      <th>18202</th>\n",
       "      <td>J. Lundstram</td>\n",
       "      <td>19</td>\n",
       "      <td>England</td>\n",
       "      <td>47</td>\n",
       "      <td>65</td>\n",
       "      <td>Crewe Alexandra</td>\n",
       "      <td>60.0</td>\n",
       "      <td>1.0</td>\n",
       "      <td>Right</td>\n",
       "      <td>1.0</td>\n",
       "      <td>2.0</td>\n",
       "      <td>CM</td>\n",
       "      <td>2017</td>\n",
       "      <td>5.750000</td>\n",
       "      <td>134.0</td>\n",
       "      <td>143.0</td>\n",
       "    </tr>\n",
       "    <tr>\n",
       "      <th>18203</th>\n",
       "      <td>N. Christoffersson</td>\n",
       "      <td>19</td>\n",
       "      <td>Sweden</td>\n",
       "      <td>47</td>\n",
       "      <td>63</td>\n",
       "      <td>Trelleborgs FF</td>\n",
       "      <td>60.0</td>\n",
       "      <td>1.0</td>\n",
       "      <td>Right</td>\n",
       "      <td>1.0</td>\n",
       "      <td>2.0</td>\n",
       "      <td>ST</td>\n",
       "      <td>2018</td>\n",
       "      <td>6.250000</td>\n",
       "      <td>170.0</td>\n",
       "      <td>113.0</td>\n",
       "    </tr>\n",
       "    <tr>\n",
       "      <th>18204</th>\n",
       "      <td>B. Worman</td>\n",
       "      <td>16</td>\n",
       "      <td>England</td>\n",
       "      <td>47</td>\n",
       "      <td>67</td>\n",
       "      <td>Cambridge United</td>\n",
       "      <td>60.0</td>\n",
       "      <td>1.0</td>\n",
       "      <td>Right</td>\n",
       "      <td>1.0</td>\n",
       "      <td>2.0</td>\n",
       "      <td>ST</td>\n",
       "      <td>2017</td>\n",
       "      <td>5.666667</td>\n",
       "      <td>148.0</td>\n",
       "      <td>165.0</td>\n",
       "    </tr>\n",
       "    <tr>\n",
       "      <th>18205</th>\n",
       "      <td>D. Walker-Rice</td>\n",
       "      <td>17</td>\n",
       "      <td>England</td>\n",
       "      <td>47</td>\n",
       "      <td>66</td>\n",
       "      <td>Tranmere Rovers</td>\n",
       "      <td>60.0</td>\n",
       "      <td>1.0</td>\n",
       "      <td>Right</td>\n",
       "      <td>1.0</td>\n",
       "      <td>2.0</td>\n",
       "      <td>RW</td>\n",
       "      <td>2018</td>\n",
       "      <td>5.833333</td>\n",
       "      <td>154.0</td>\n",
       "      <td>143.0</td>\n",
       "    </tr>\n",
       "    <tr>\n",
       "      <th>18206</th>\n",
       "      <td>G. Nugent</td>\n",
       "      <td>16</td>\n",
       "      <td>England</td>\n",
       "      <td>46</td>\n",
       "      <td>66</td>\n",
       "      <td>Tranmere Rovers</td>\n",
       "      <td>60.0</td>\n",
       "      <td>1.0</td>\n",
       "      <td>Right</td>\n",
       "      <td>1.0</td>\n",
       "      <td>2.0</td>\n",
       "      <td>CM</td>\n",
       "      <td>2018</td>\n",
       "      <td>5.833333</td>\n",
       "      <td>176.0</td>\n",
       "      <td>165.0</td>\n",
       "    </tr>\n",
       "  </tbody>\n",
       "</table>\n",
       "<p>18207 rows × 16 columns</p>\n",
       "</div>"
      ],
      "text/plain": [
       "                     Name  Age Nationality  Overall  Potential  \\\n",
       "0                L. Messi   31   Argentina       94         94   \n",
       "1       Cristiano Ronaldo   33    Portugal       94         94   \n",
       "2               Neymar Jr   26      Brazil       92         93   \n",
       "3                  De Gea   27       Spain       91         93   \n",
       "4            K. De Bruyne   27     Belgium       91         92   \n",
       "...                   ...  ...         ...      ...        ...   \n",
       "18202        J. Lundstram   19     England       47         65   \n",
       "18203  N. Christoffersson   19      Sweden       47         63   \n",
       "18204           B. Worman   16     England       47         67   \n",
       "18205      D. Walker-Rice   17     England       47         66   \n",
       "18206           G. Nugent   16     England       46         66   \n",
       "\n",
       "                      Club     Value   Wage Preferred Foot  \\\n",
       "0             FC Barcelona  110500.0  565.0           Left   \n",
       "1                 Juventus   77000.0  405.0          Right   \n",
       "2      Paris Saint-Germain  118500.0  290.0          Right   \n",
       "3        Manchester United   72000.0  260.0          Right   \n",
       "4          Manchester City  102000.0  355.0          Right   \n",
       "...                    ...       ...    ...            ...   \n",
       "18202      Crewe Alexandra      60.0    1.0          Right   \n",
       "18203       Trelleborgs FF      60.0    1.0          Right   \n",
       "18204     Cambridge United      60.0    1.0          Right   \n",
       "18205      Tranmere Rovers      60.0    1.0          Right   \n",
       "18206      Tranmere Rovers      60.0    1.0          Right   \n",
       "\n",
       "       International Reputation  Skill Moves Position  Joined    Height  \\\n",
       "0                           5.0          4.0       RF    2004  5.583333   \n",
       "1                           5.0          5.0       ST    2018  6.166667   \n",
       "2                           5.0          5.0       LW    2017  5.750000   \n",
       "3                           4.0          1.0       GK    2011  6.333333   \n",
       "4                           4.0          4.0      RCM    2015  5.916667   \n",
       "...                         ...          ...      ...     ...       ...   \n",
       "18202                       1.0          2.0       CM    2017  5.750000   \n",
       "18203                       1.0          2.0       ST    2018  6.250000   \n",
       "18204                       1.0          2.0       ST    2017  5.666667   \n",
       "18205                       1.0          2.0       RW    2018  5.833333   \n",
       "18206                       1.0          2.0       CM    2018  5.833333   \n",
       "\n",
       "       Weight  Release Clause  \n",
       "0       159.0        226500.0  \n",
       "1       183.0        127100.0  \n",
       "2       150.0        228100.0  \n",
       "3       168.0        138600.0  \n",
       "4       154.0        196400.0  \n",
       "...       ...             ...  \n",
       "18202   134.0           143.0  \n",
       "18203   170.0           113.0  \n",
       "18204   148.0           165.0  \n",
       "18205   154.0           143.0  \n",
       "18206   176.0           165.0  \n",
       "\n",
       "[18207 rows x 16 columns]"
      ]
     },
     "execution_count": 8,
     "metadata": {},
     "output_type": "execute_result"
    }
   ],
   "source": [
    "df"
   ]
  },
  {
   "cell_type": "code",
   "execution_count": 9,
   "id": "23810c12",
   "metadata": {},
   "outputs": [
    {
     "data": {
      "text/plain": [
       "Index(['Name', 'Age', 'Nationality', 'Overall', 'Potential', 'Club', 'Value',\n",
       "       'Wage', 'Preferred Foot', 'International Reputation', 'Skill Moves',\n",
       "       'Position', 'Joined', 'Height', 'Weight', 'Release Clause'],\n",
       "      dtype='object')"
      ]
     },
     "execution_count": 9,
     "metadata": {},
     "output_type": "execute_result"
    }
   ],
   "source": [
    "# checking all the columns in the dataset\n",
    "\n",
    "df.columns"
   ]
  },
  {
   "cell_type": "code",
   "execution_count": 10,
   "id": "050e8fdd",
   "metadata": {},
   "outputs": [
    {
     "data": {
      "text/html": [
       "<div>\n",
       "<style scoped>\n",
       "    .dataframe tbody tr th:only-of-type {\n",
       "        vertical-align: middle;\n",
       "    }\n",
       "\n",
       "    .dataframe tbody tr th {\n",
       "        vertical-align: top;\n",
       "    }\n",
       "\n",
       "    .dataframe thead th {\n",
       "        text-align: right;\n",
       "    }\n",
       "</style>\n",
       "<table border=\"1\" class=\"dataframe\">\n",
       "  <thead>\n",
       "    <tr style=\"text-align: right;\">\n",
       "      <th></th>\n",
       "      <th>Name</th>\n",
       "      <th>Age</th>\n",
       "      <th>Nationality</th>\n",
       "      <th>Overall</th>\n",
       "      <th>Potential</th>\n",
       "      <th>Club</th>\n",
       "      <th>Value</th>\n",
       "      <th>Wage</th>\n",
       "      <th>Preferred Foot</th>\n",
       "      <th>International Reputation</th>\n",
       "      <th>Skill Moves</th>\n",
       "      <th>Position</th>\n",
       "      <th>Joined</th>\n",
       "      <th>Height</th>\n",
       "      <th>Weight</th>\n",
       "      <th>Release Clause</th>\n",
       "    </tr>\n",
       "  </thead>\n",
       "  <tbody>\n",
       "    <tr>\n",
       "      <th>0</th>\n",
       "      <td>L. Messi</td>\n",
       "      <td>31</td>\n",
       "      <td>Argentina</td>\n",
       "      <td>94</td>\n",
       "      <td>94</td>\n",
       "      <td>FC Barcelona</td>\n",
       "      <td>110500.0</td>\n",
       "      <td>565.0</td>\n",
       "      <td>Left</td>\n",
       "      <td>5.0</td>\n",
       "      <td>4.0</td>\n",
       "      <td>RF</td>\n",
       "      <td>2004</td>\n",
       "      <td>5.583333</td>\n",
       "      <td>159.0</td>\n",
       "      <td>226500.0</td>\n",
       "    </tr>\n",
       "    <tr>\n",
       "      <th>1</th>\n",
       "      <td>Cristiano Ronaldo</td>\n",
       "      <td>33</td>\n",
       "      <td>Portugal</td>\n",
       "      <td>94</td>\n",
       "      <td>94</td>\n",
       "      <td>Juventus</td>\n",
       "      <td>77000.0</td>\n",
       "      <td>405.0</td>\n",
       "      <td>Right</td>\n",
       "      <td>5.0</td>\n",
       "      <td>5.0</td>\n",
       "      <td>ST</td>\n",
       "      <td>2018</td>\n",
       "      <td>6.166667</td>\n",
       "      <td>183.0</td>\n",
       "      <td>127100.0</td>\n",
       "    </tr>\n",
       "    <tr>\n",
       "      <th>2</th>\n",
       "      <td>Neymar Jr</td>\n",
       "      <td>26</td>\n",
       "      <td>Brazil</td>\n",
       "      <td>92</td>\n",
       "      <td>93</td>\n",
       "      <td>Paris Saint-Germain</td>\n",
       "      <td>118500.0</td>\n",
       "      <td>290.0</td>\n",
       "      <td>Right</td>\n",
       "      <td>5.0</td>\n",
       "      <td>5.0</td>\n",
       "      <td>LW</td>\n",
       "      <td>2017</td>\n",
       "      <td>5.750000</td>\n",
       "      <td>150.0</td>\n",
       "      <td>228100.0</td>\n",
       "    </tr>\n",
       "    <tr>\n",
       "      <th>3</th>\n",
       "      <td>De Gea</td>\n",
       "      <td>27</td>\n",
       "      <td>Spain</td>\n",
       "      <td>91</td>\n",
       "      <td>93</td>\n",
       "      <td>Manchester United</td>\n",
       "      <td>72000.0</td>\n",
       "      <td>260.0</td>\n",
       "      <td>Right</td>\n",
       "      <td>4.0</td>\n",
       "      <td>1.0</td>\n",
       "      <td>GK</td>\n",
       "      <td>2011</td>\n",
       "      <td>6.333333</td>\n",
       "      <td>168.0</td>\n",
       "      <td>138600.0</td>\n",
       "    </tr>\n",
       "    <tr>\n",
       "      <th>4</th>\n",
       "      <td>K. De Bruyne</td>\n",
       "      <td>27</td>\n",
       "      <td>Belgium</td>\n",
       "      <td>91</td>\n",
       "      <td>92</td>\n",
       "      <td>Manchester City</td>\n",
       "      <td>102000.0</td>\n",
       "      <td>355.0</td>\n",
       "      <td>Right</td>\n",
       "      <td>4.0</td>\n",
       "      <td>4.0</td>\n",
       "      <td>RCM</td>\n",
       "      <td>2015</td>\n",
       "      <td>5.916667</td>\n",
       "      <td>154.0</td>\n",
       "      <td>196400.0</td>\n",
       "    </tr>\n",
       "  </tbody>\n",
       "</table>\n",
       "</div>"
      ],
      "text/plain": [
       "                Name  Age Nationality  Overall  Potential  \\\n",
       "0           L. Messi   31   Argentina       94         94   \n",
       "1  Cristiano Ronaldo   33    Portugal       94         94   \n",
       "2          Neymar Jr   26      Brazil       92         93   \n",
       "3             De Gea   27       Spain       91         93   \n",
       "4       K. De Bruyne   27     Belgium       91         92   \n",
       "\n",
       "                  Club     Value   Wage Preferred Foot  \\\n",
       "0         FC Barcelona  110500.0  565.0           Left   \n",
       "1             Juventus   77000.0  405.0          Right   \n",
       "2  Paris Saint-Germain  118500.0  290.0          Right   \n",
       "3    Manchester United   72000.0  260.0          Right   \n",
       "4      Manchester City  102000.0  355.0          Right   \n",
       "\n",
       "   International Reputation  Skill Moves Position  Joined    Height  Weight  \\\n",
       "0                       5.0          4.0       RF    2004  5.583333   159.0   \n",
       "1                       5.0          5.0       ST    2018  6.166667   183.0   \n",
       "2                       5.0          5.0       LW    2017  5.750000   150.0   \n",
       "3                       4.0          1.0       GK    2011  6.333333   168.0   \n",
       "4                       4.0          4.0      RCM    2015  5.916667   154.0   \n",
       "\n",
       "   Release Clause  \n",
       "0        226500.0  \n",
       "1        127100.0  \n",
       "2        228100.0  \n",
       "3        138600.0  \n",
       "4        196400.0  "
      ]
     },
     "execution_count": 10,
     "metadata": {},
     "output_type": "execute_result"
    }
   ],
   "source": [
    "# checking first 5 rows\n",
    "\n",
    "df.head()"
   ]
  },
  {
   "cell_type": "code",
   "execution_count": 11,
   "id": "7b225bc7",
   "metadata": {},
   "outputs": [
    {
     "data": {
      "text/plain": [
       "Name                         object\n",
       "Age                           int64\n",
       "Nationality                  object\n",
       "Overall                       int64\n",
       "Potential                     int64\n",
       "Club                         object\n",
       "Value                       float64\n",
       "Wage                        float64\n",
       "Preferred Foot               object\n",
       "International Reputation    float64\n",
       "Skill Moves                 float64\n",
       "Position                     object\n",
       "Joined                        int64\n",
       "Height                      float64\n",
       "Weight                      float64\n",
       "Release Clause              float64\n",
       "dtype: object"
      ]
     },
     "execution_count": 11,
     "metadata": {},
     "output_type": "execute_result"
    }
   ],
   "source": [
    "# checking datatypes of columns\n",
    "\n",
    "df.dtypes"
   ]
  },
  {
   "cell_type": "code",
   "execution_count": 12,
   "id": "629463de",
   "metadata": {},
   "outputs": [
    {
     "name": "stdout",
     "output_type": "stream",
     "text": [
      "<class 'pandas.core.frame.DataFrame'>\n",
      "RangeIndex: 18207 entries, 0 to 18206\n",
      "Data columns (total 16 columns):\n",
      " #   Column                    Non-Null Count  Dtype  \n",
      "---  ------                    --------------  -----  \n",
      " 0   Name                      18207 non-null  object \n",
      " 1   Age                       18207 non-null  int64  \n",
      " 2   Nationality               18207 non-null  object \n",
      " 3   Overall                   18207 non-null  int64  \n",
      " 4   Potential                 18207 non-null  int64  \n",
      " 5   Club                      17966 non-null  object \n",
      " 6   Value                     17955 non-null  float64\n",
      " 7   Wage                      18207 non-null  float64\n",
      " 8   Preferred Foot            18207 non-null  object \n",
      " 9   International Reputation  18159 non-null  float64\n",
      " 10  Skill Moves               18159 non-null  float64\n",
      " 11  Position                  18207 non-null  object \n",
      " 12  Joined                    18207 non-null  int64  \n",
      " 13  Height                    18207 non-null  float64\n",
      " 14  Weight                    18207 non-null  float64\n",
      " 15  Release Clause            18207 non-null  float64\n",
      "dtypes: float64(7), int64(4), object(5)\n",
      "memory usage: 2.2+ MB\n"
     ]
    }
   ],
   "source": [
    "# checking the number of non null counts out of total rows\n",
    "\n",
    "df.info()"
   ]
  },
  {
   "cell_type": "code",
   "execution_count": 13,
   "id": "778ebeae",
   "metadata": {},
   "outputs": [
    {
     "data": {
      "text/plain": [
       "Name                          0\n",
       "Age                           0\n",
       "Nationality                   0\n",
       "Overall                       0\n",
       "Potential                     0\n",
       "Club                        241\n",
       "Value                       252\n",
       "Wage                          0\n",
       "Preferred Foot                0\n",
       "International Reputation     48\n",
       "Skill Moves                  48\n",
       "Position                      0\n",
       "Joined                        0\n",
       "Height                        0\n",
       "Weight                        0\n",
       "Release Clause                0\n",
       "dtype: int64"
      ]
     },
     "execution_count": 13,
     "metadata": {},
     "output_type": "execute_result"
    }
   ],
   "source": [
    "# null values can be seen from above info\n",
    "\n",
    "df.isnull().sum()"
   ]
  },
  {
   "cell_type": "code",
   "execution_count": 14,
   "id": "bb6de2ce",
   "metadata": {},
   "outputs": [],
   "source": [
    "df.dropna(inplace=True,axis=0)"
   ]
  },
  {
   "cell_type": "code",
   "execution_count": 15,
   "id": "71e0b3fd",
   "metadata": {},
   "outputs": [
    {
     "data": {
      "text/plain": [
       "(17907, 16)"
      ]
     },
     "execution_count": 15,
     "metadata": {},
     "output_type": "execute_result"
    }
   ],
   "source": [
    "df.shape"
   ]
  },
  {
   "cell_type": "markdown",
   "id": "6283c226",
   "metadata": {},
   "source": [
    "### EDA"
   ]
  },
  {
   "cell_type": "code",
   "execution_count": 16,
   "id": "d94d9d97",
   "metadata": {},
   "outputs": [],
   "source": [
    "# plotting boxplot on continuous numerical columns to check outliers"
   ]
  },
  {
   "cell_type": "code",
   "execution_count": 17,
   "id": "b5e9334a",
   "metadata": {},
   "outputs": [
    {
     "data": {
      "text/html": [
       "<div>\n",
       "<style scoped>\n",
       "    .dataframe tbody tr th:only-of-type {\n",
       "        vertical-align: middle;\n",
       "    }\n",
       "\n",
       "    .dataframe tbody tr th {\n",
       "        vertical-align: top;\n",
       "    }\n",
       "\n",
       "    .dataframe thead th {\n",
       "        text-align: right;\n",
       "    }\n",
       "</style>\n",
       "<table border=\"1\" class=\"dataframe\">\n",
       "  <thead>\n",
       "    <tr style=\"text-align: right;\">\n",
       "      <th></th>\n",
       "      <th>Age</th>\n",
       "      <th>Overall</th>\n",
       "      <th>Potential</th>\n",
       "      <th>Value</th>\n",
       "      <th>Wage</th>\n",
       "      <th>International Reputation</th>\n",
       "      <th>Skill Moves</th>\n",
       "      <th>Joined</th>\n",
       "      <th>Height</th>\n",
       "      <th>Weight</th>\n",
       "      <th>Release Clause</th>\n",
       "    </tr>\n",
       "  </thead>\n",
       "  <tbody>\n",
       "    <tr>\n",
       "      <th>count</th>\n",
       "      <td>17907.000000</td>\n",
       "      <td>17907.000000</td>\n",
       "      <td>17907.000000</td>\n",
       "      <td>17907.000000</td>\n",
       "      <td>17907.000000</td>\n",
       "      <td>17907.000000</td>\n",
       "      <td>17907.000000</td>\n",
       "      <td>17907.000000</td>\n",
       "      <td>17907.000000</td>\n",
       "      <td>17907.000000</td>\n",
       "      <td>17907.000000</td>\n",
       "    </tr>\n",
       "    <tr>\n",
       "      <th>mean</th>\n",
       "      <td>25.095605</td>\n",
       "      <td>66.239571</td>\n",
       "      <td>71.335232</td>\n",
       "      <td>2450.132909</td>\n",
       "      <td>9.887753</td>\n",
       "      <td>1.113699</td>\n",
       "      <td>2.363042</td>\n",
       "      <td>2016.429553</td>\n",
       "      <td>5.946711</td>\n",
       "      <td>165.964316</td>\n",
       "      <td>4585.060974</td>\n",
       "    </tr>\n",
       "    <tr>\n",
       "      <th>std</th>\n",
       "      <td>4.660388</td>\n",
       "      <td>6.926818</td>\n",
       "      <td>6.137251</td>\n",
       "      <td>5633.206685</td>\n",
       "      <td>22.148656</td>\n",
       "      <td>0.395193</td>\n",
       "      <td>0.756256</td>\n",
       "      <td>2.027399</td>\n",
       "      <td>0.220812</td>\n",
       "      <td>15.602524</td>\n",
       "      <td>10719.096361</td>\n",
       "    </tr>\n",
       "    <tr>\n",
       "      <th>min</th>\n",
       "      <td>16.000000</td>\n",
       "      <td>46.000000</td>\n",
       "      <td>48.000000</td>\n",
       "      <td>10.000000</td>\n",
       "      <td>1.000000</td>\n",
       "      <td>1.000000</td>\n",
       "      <td>1.000000</td>\n",
       "      <td>1991.000000</td>\n",
       "      <td>5.083333</td>\n",
       "      <td>110.000000</td>\n",
       "      <td>13.000000</td>\n",
       "    </tr>\n",
       "    <tr>\n",
       "      <th>25%</th>\n",
       "      <td>21.000000</td>\n",
       "      <td>62.000000</td>\n",
       "      <td>67.000000</td>\n",
       "      <td>325.000000</td>\n",
       "      <td>1.000000</td>\n",
       "      <td>1.000000</td>\n",
       "      <td>2.000000</td>\n",
       "      <td>2016.000000</td>\n",
       "      <td>5.750000</td>\n",
       "      <td>154.000000</td>\n",
       "      <td>563.000000</td>\n",
       "    </tr>\n",
       "    <tr>\n",
       "      <th>50%</th>\n",
       "      <td>25.000000</td>\n",
       "      <td>66.000000</td>\n",
       "      <td>71.000000</td>\n",
       "      <td>700.000000</td>\n",
       "      <td>3.000000</td>\n",
       "      <td>1.000000</td>\n",
       "      <td>2.000000</td>\n",
       "      <td>2017.000000</td>\n",
       "      <td>5.916667</td>\n",
       "      <td>165.000000</td>\n",
       "      <td>1300.000000</td>\n",
       "    </tr>\n",
       "    <tr>\n",
       "      <th>75%</th>\n",
       "      <td>28.000000</td>\n",
       "      <td>71.000000</td>\n",
       "      <td>75.000000</td>\n",
       "      <td>2100.000000</td>\n",
       "      <td>9.000000</td>\n",
       "      <td>1.000000</td>\n",
       "      <td>3.000000</td>\n",
       "      <td>2018.000000</td>\n",
       "      <td>6.083333</td>\n",
       "      <td>176.000000</td>\n",
       "      <td>4585.060806</td>\n",
       "    </tr>\n",
       "    <tr>\n",
       "      <th>max</th>\n",
       "      <td>45.000000</td>\n",
       "      <td>94.000000</td>\n",
       "      <td>95.000000</td>\n",
       "      <td>118500.000000</td>\n",
       "      <td>565.000000</td>\n",
       "      <td>5.000000</td>\n",
       "      <td>5.000000</td>\n",
       "      <td>2018.000000</td>\n",
       "      <td>6.750000</td>\n",
       "      <td>243.000000</td>\n",
       "      <td>228100.000000</td>\n",
       "    </tr>\n",
       "  </tbody>\n",
       "</table>\n",
       "</div>"
      ],
      "text/plain": [
       "                Age       Overall     Potential          Value          Wage  \\\n",
       "count  17907.000000  17907.000000  17907.000000   17907.000000  17907.000000   \n",
       "mean      25.095605     66.239571     71.335232    2450.132909      9.887753   \n",
       "std        4.660388      6.926818      6.137251    5633.206685     22.148656   \n",
       "min       16.000000     46.000000     48.000000      10.000000      1.000000   \n",
       "25%       21.000000     62.000000     67.000000     325.000000      1.000000   \n",
       "50%       25.000000     66.000000     71.000000     700.000000      3.000000   \n",
       "75%       28.000000     71.000000     75.000000    2100.000000      9.000000   \n",
       "max       45.000000     94.000000     95.000000  118500.000000    565.000000   \n",
       "\n",
       "       International Reputation   Skill Moves        Joined        Height  \\\n",
       "count              17907.000000  17907.000000  17907.000000  17907.000000   \n",
       "mean                   1.113699      2.363042   2016.429553      5.946711   \n",
       "std                    0.395193      0.756256      2.027399      0.220812   \n",
       "min                    1.000000      1.000000   1991.000000      5.083333   \n",
       "25%                    1.000000      2.000000   2016.000000      5.750000   \n",
       "50%                    1.000000      2.000000   2017.000000      5.916667   \n",
       "75%                    1.000000      3.000000   2018.000000      6.083333   \n",
       "max                    5.000000      5.000000   2018.000000      6.750000   \n",
       "\n",
       "             Weight  Release Clause  \n",
       "count  17907.000000    17907.000000  \n",
       "mean     165.964316     4585.060974  \n",
       "std       15.602524    10719.096361  \n",
       "min      110.000000       13.000000  \n",
       "25%      154.000000      563.000000  \n",
       "50%      165.000000     1300.000000  \n",
       "75%      176.000000     4585.060806  \n",
       "max      243.000000   228100.000000  "
      ]
     },
     "execution_count": 17,
     "metadata": {},
     "output_type": "execute_result"
    }
   ],
   "source": [
    "df.describe()"
   ]
  },
  {
   "cell_type": "code",
   "execution_count": 18,
   "id": "b6bb2135",
   "metadata": {},
   "outputs": [
    {
     "data": {
      "text/plain": [
       "<AxesSubplot:xlabel='Potential'>"
      ]
     },
     "execution_count": 18,
     "metadata": {},
     "output_type": "execute_result"
    },
    {
     "data": {
      "image/png": "[encoded data removed]",
      "text/plain": [
       "<Figure size 1440x720 with 2 Axes>"
      ]
     },
     "metadata": {
      "needs_background": "light"
     },
     "output_type": "display_data"
    }
   ],
   "source": [
    "plt.figure(figsize=(20,10))\n",
    "plt.subplot(1,2,1)\n",
    "sns.boxplot(df['Overall'])\n",
    "\n",
    "plt.subplot(1,2,2)\n",
    "sns.boxplot(df['Potential'])"
   ]
  },
  {
   "cell_type": "code",
   "execution_count": 19,
   "id": "08601385",
   "metadata": {},
   "outputs": [
    {
     "data": {
      "text/plain": [
       "Text(0.5, 1.0, 'Value in Million Euros')"
      ]
     },
     "execution_count": 19,
     "metadata": {},
     "output_type": "execute_result"
    },
    {
     "data": {
      "image/png": "[encoded data removed]",
      "text/plain": [
       "<Figure size 1440x720 with 2 Axes>"
      ]
     },
     "metadata": {
      "needs_background": "light"
     },
     "output_type": "display_data"
    }
   ],
   "source": [
    "plt.figure(figsize=(20,10))\n",
    "plt.subplot(1,2,1)\n",
    "sns.boxplot(df['Age'])\n",
    "plt.title('Age in Years')\n",
    "\n",
    "plt.subplot(1,2,2)\n",
    "sns.boxplot(df['Value'])\n",
    "plt.title('Value in Million Euros')"
   ]
  },
  {
   "cell_type": "code",
   "execution_count": 20,
   "id": "33ce85bd",
   "metadata": {},
   "outputs": [
    {
     "data": {
      "text/plain": [
       "Text(0.5, 1.0, 'Release Clause in Million Euros')"
      ]
     },
     "execution_count": 20,
     "metadata": {},
     "output_type": "execute_result"
    },
    {
     "data": {
      "image/png": "[encoded data removed]",
      "text/plain": [
       "<Figure size 1440x720 with 2 Axes>"
      ]
     },
     "metadata": {
      "needs_background": "light"
     },
     "output_type": "display_data"
    }
   ],
   "source": [
    "plt.figure(figsize=(20,10))\n",
    "plt.subplot(1,2,1)\n",
    "sns.boxplot(df['Wage'])\n",
    "plt.title('Wage in Euros')\n",
    "\n",
    "plt.subplot(1,2,2)\n",
    "sns.boxplot(df['Release Clause'])\n",
    "plt.title('Release Clause in Million Euros')"
   ]
  },
  {
   "cell_type": "code",
   "execution_count": 21,
   "id": "01f5db2d",
   "metadata": {},
   "outputs": [
    {
     "data": {
      "text/plain": [
       "Text(0.5, 1.0, 'Weight in lbs')"
      ]
     },
     "execution_count": 21,
     "metadata": {},
     "output_type": "execute_result"
    },
    {
     "data": {
      "image/png": "[encoded data removed]",
      "text/plain": [
       "<Figure size 1440x720 with 2 Axes>"
      ]
     },
     "metadata": {
      "needs_background": "light"
     },
     "output_type": "display_data"
    }
   ],
   "source": [
    "plt.figure(figsize=(20,10))\n",
    "plt.subplot(1,2,1)\n",
    "sns.boxplot(df['Height'])\n",
    "plt.title('Height in Inches')\n",
    "\n",
    "plt.subplot(1,2,2)\n",
    "sns.boxplot(df['Weight'])\n",
    "plt.title('Weight in lbs')"
   ]
  },
  {
   "cell_type": "code",
   "execution_count": 22,
   "id": "21daf15e",
   "metadata": {},
   "outputs": [],
   "source": [
    "# removing outliers"
   ]
  },
  {
   "cell_type": "code",
   "execution_count": 23,
   "id": "19a0189f",
   "metadata": {},
   "outputs": [],
   "source": [
    "df_num=df.select_dtypes(include='number')"
   ]
  },
  {
   "cell_type": "code",
   "execution_count": 24,
   "id": "e6b5f86e",
   "metadata": {},
   "outputs": [],
   "source": [
    "Q1=df_num.quantile(0.25)\n",
    "Q3=df_num.quantile(0.75)\n",
    "IQR=Q3-Q1\n",
    "lb=Q1-(1.5*IQR)\n",
    "ub=Q3+(1.5*IQR)"
   ]
  },
  {
   "cell_type": "code",
   "execution_count": 25,
   "id": "58a69929",
   "metadata": {},
   "outputs": [
    {
     "data": {
      "text/plain": [
       "Age                           10.50000\n",
       "Overall                       48.50000\n",
       "Potential                     55.00000\n",
       "Value                      -2337.50000\n",
       "Wage                         -11.00000\n",
       "International Reputation       1.00000\n",
       "Skill Moves                    0.50000\n",
       "Joined                      2013.00000\n",
       "Height                         5.25000\n",
       "Weight                       121.00000\n",
       "Release Clause             -5470.09121\n",
       "dtype: float64"
      ]
     },
     "execution_count": 25,
     "metadata": {},
     "output_type": "execute_result"
    }
   ],
   "source": [
    "# lower bound for numerical columns\n",
    "\n",
    "lb"
   ]
  },
  {
   "cell_type": "code",
   "execution_count": 26,
   "id": "0f7906f0",
   "metadata": {},
   "outputs": [
    {
     "data": {
      "text/plain": [
       "Age                            38.500000\n",
       "Overall                        84.500000\n",
       "Potential                      87.000000\n",
       "Value                        4762.500000\n",
       "Wage                           21.000000\n",
       "International Reputation        1.000000\n",
       "Skill Moves                     4.500000\n",
       "Joined                       2021.000000\n",
       "Height                          6.583333\n",
       "Weight                        209.000000\n",
       "Release Clause              10618.152016\n",
       "dtype: float64"
      ]
     },
     "execution_count": 26,
     "metadata": {},
     "output_type": "execute_result"
    }
   ],
   "source": [
    "# upper bound for numerical columns\n",
    "\n",
    "ub"
   ]
  },
  {
   "cell_type": "code",
   "execution_count": 27,
   "id": "464ee251",
   "metadata": {},
   "outputs": [],
   "source": [
    "# removing outliers from all respective columns"
   ]
  },
  {
   "cell_type": "code",
   "execution_count": 28,
   "id": "8c40fe6a",
   "metadata": {},
   "outputs": [],
   "source": [
    "df=df[~((df_num<lb)|(df_num>ub)).any(axis=1)]"
   ]
  },
  {
   "cell_type": "code",
   "execution_count": 29,
   "id": "dce54bb0",
   "metadata": {},
   "outputs": [
    {
     "data": {
      "text/plain": [
       "(13800, 16)"
      ]
     },
     "execution_count": 29,
     "metadata": {},
     "output_type": "execute_result"
    }
   ],
   "source": [
    "# as seen dimensions have been reduced by approx 5k after removing outlier records\n",
    "\n",
    "df.shape"
   ]
  },
  {
   "cell_type": "code",
   "execution_count": 30,
   "id": "fcf6fc2d",
   "metadata": {},
   "outputs": [],
   "source": [
    "# boxplots after removing outliers"
   ]
  },
  {
   "cell_type": "code",
   "execution_count": 31,
   "id": "1f706f6d",
   "metadata": {},
   "outputs": [
    {
     "data": {
      "text/plain": [
       "<AxesSubplot:xlabel='Potential'>"
      ]
     },
     "execution_count": 31,
     "metadata": {},
     "output_type": "execute_result"
    },
    {
     "data": {
      "image/png": "[encoded data removed]",
      "text/plain": [
       "<Figure size 1440x720 with 2 Axes>"
      ]
     },
     "metadata": {
      "needs_background": "light"
     },
     "output_type": "display_data"
    }
   ],
   "source": [
    "plt.figure(figsize=(20,10))\n",
    "plt.subplot(1,2,1)\n",
    "sns.boxplot(df['Overall'])\n",
    "\n",
    "plt.subplot(1,2,2)\n",
    "sns.boxplot(df['Potential'])"
   ]
  },
  {
   "cell_type": "code",
   "execution_count": 32,
   "id": "05060589",
   "metadata": {},
   "outputs": [
    {
     "data": {
      "text/plain": [
       "Text(0.5, 1.0, 'Value in Million Euros')"
      ]
     },
     "execution_count": 32,
     "metadata": {},
     "output_type": "execute_result"
    },
    {
     "data": {
      "image/png": "[encoded data removed]",
      "text/plain": [
       "<Figure size 1440x720 with 2 Axes>"
      ]
     },
     "metadata": {
      "needs_background": "light"
     },
     "output_type": "display_data"
    }
   ],
   "source": [
    "plt.figure(figsize=(20,10))\n",
    "plt.subplot(1,2,1)\n",
    "sns.boxplot(df['Age'])\n",
    "plt.title('Age in Years')\n",
    "\n",
    "plt.subplot(1,2,2)\n",
    "sns.boxplot(df['Value'])\n",
    "plt.title('Value in Million Euros')"
   ]
  },
  {
   "cell_type": "code",
   "execution_count": 33,
   "id": "cf297340",
   "metadata": {},
   "outputs": [
    {
     "data": {
      "text/plain": [
       "Text(0.5, 1.0, 'Release Clause in Million Euros')"
      ]
     },
     "execution_count": 33,
     "metadata": {},
     "output_type": "execute_result"
    },
    {
     "data": {
      "image/png": "[encoded data removed]",
      "text/plain": [
       "<Figure size 1440x720 with 2 Axes>"
      ]
     },
     "metadata": {
      "needs_background": "light"
     },
     "output_type": "display_data"
    }
   ],
   "source": [
    "plt.figure(figsize=(20,10))\n",
    "plt.subplot(1,2,1)\n",
    "sns.boxplot(df['Wage'])\n",
    "plt.title('Wage in Euros')\n",
    "\n",
    "plt.subplot(1,2,2)\n",
    "sns.boxplot(df['Release Clause'])\n",
    "plt.title('Release Clause in Million Euros')"
   ]
  },
  {
   "cell_type": "code",
   "execution_count": 34,
   "id": "f289a817",
   "metadata": {},
   "outputs": [
    {
     "data": {
      "text/plain": [
       "Text(0.5, 1.0, 'Weight in lbs')"
      ]
     },
     "execution_count": 34,
     "metadata": {},
     "output_type": "execute_result"
    },
    {
     "data": {
      "image/png": "[encoded data removed]",
      "text/plain": [
       "<Figure size 1440x720 with 2 Axes>"
      ]
     },
     "metadata": {
      "needs_background": "light"
     },
     "output_type": "display_data"
    }
   ],
   "source": [
    "plt.figure(figsize=(20,10))\n",
    "plt.subplot(1,2,1)\n",
    "sns.boxplot(df['Height'])\n",
    "plt.title('Height in Inches')\n",
    "\n",
    "plt.subplot(1,2,2)\n",
    "sns.boxplot(df['Weight'])\n",
    "plt.title('Weight in lbs')"
   ]
  },
  {
   "cell_type": "code",
   "execution_count": 35,
   "id": "e66650ea",
   "metadata": {},
   "outputs": [],
   "source": [
    "# we can further remove outliers to reduce the number of anomalies in the data but it would also reduce number of records"
   ]
  },
  {
   "cell_type": "code",
   "execution_count": 36,
   "id": "a546e6f2",
   "metadata": {},
   "outputs": [
    {
     "data": {
      "text/plain": [
       "<matplotlib.lines.Line2D at 0x1c66b022700>"
      ]
     },
     "execution_count": 36,
     "metadata": {},
     "output_type": "execute_result"
    },
    {
     "data": {
      "image/png": "[encoded data removed]",
      "text/plain": [
       "<Figure size 1080x576 with 1 Axes>"
      ]
     },
     "metadata": {
      "needs_background": "light"
     },
     "output_type": "display_data"
    }
   ],
   "source": [
    "# histogram of Overall\n",
    "plt.figure(figsize=(15,8))\n",
    "sns.histplot(df['Overall'],bins=20,kde=True)\n",
    "plt.title('Histogram of Overall of a player')\n",
    "plt.xlabel('Overall')\n",
    "plt.ylabel('Count of Players')\n",
    "plt.axvline(df.Overall.mean(),color='red')\n",
    "plt.axvline(df.Overall.median(),color='green')"
   ]
  },
  {
   "cell_type": "code",
   "execution_count": 37,
   "id": "56a048a2",
   "metadata": {},
   "outputs": [
    {
     "data": {
      "text/plain": [
       "<matplotlib.lines.Line2D at 0x1c66b65c280>"
      ]
     },
     "execution_count": 37,
     "metadata": {},
     "output_type": "execute_result"
    },
    {
     "data": {
      "image/png": "[encoded data removed]",
      "text/plain": [
       "<Figure size 1080x576 with 1 Axes>"
      ]
     },
     "metadata": {
      "needs_background": "light"
     },
     "output_type": "display_data"
    }
   ],
   "source": [
    "# histogram of Overall\n",
    "plt.figure(figsize=(15,8))\n",
    "sns.histplot(df['Potential'],bins=20,kde=True)\n",
    "plt.title('Histogram of Potential of a player')\n",
    "plt.xlabel('Potential')\n",
    "plt.ylabel('Count of Players')\n",
    "plt.axvline(df.Overall.mean(),color='red')\n",
    "plt.axvline(df.Overall.median(),color='green')"
   ]
  },
  {
   "cell_type": "code",
   "execution_count": 38,
   "id": "35c6534a",
   "metadata": {},
   "outputs": [
    {
     "data": {
      "text/plain": [
       "<AxesSubplot:xlabel='Preferred Foot', ylabel='count'>"
      ]
     },
     "execution_count": 38,
     "metadata": {},
     "output_type": "execute_result"
    },
    {
     "data": {
      "image/png": "[encoded data removed]",
      "text/plain": [
       "<Figure size 648x360 with 1 Axes>"
      ]
     },
     "metadata": {
      "needs_background": "light"
     },
     "output_type": "display_data"
    }
   ],
   "source": [
    "plt.figure(figsize=(9,5))\n",
    "sns.countplot(df['Preferred Foot'])"
   ]
  },
  {
   "cell_type": "code",
   "execution_count": 39,
   "id": "3318c592",
   "metadata": {},
   "outputs": [
    {
     "data": {
      "image/png": "[encoded data removed]",
      "text/plain": [
       "<Figure size 720x432 with 1 Axes>"
      ]
     },
     "metadata": {
      "needs_background": "light"
     },
     "output_type": "display_data"
    }
   ],
   "source": [
    "plt.figure(figsize=(10,6))\n",
    "sns.distplot(df['Age'])\n",
    "plt.axvline(df.Age.mean(),color='red')\n",
    "plt.axvline(df.Age.median(),color='black')\n",
    "plt.title('Distribution plot of Age',size=13)\n",
    "plt.show()"
   ]
  },
  {
   "cell_type": "code",
   "execution_count": 40,
   "id": "54592ee0",
   "metadata": {},
   "outputs": [],
   "source": [
    "# multivariate analysis"
   ]
  },
  {
   "cell_type": "code",
   "execution_count": 41,
   "id": "61564fc7",
   "metadata": {},
   "outputs": [
    {
     "data": {
      "image/png": "[encoded data removed]",
      "text/plain": [
       "<Figure size 1080x576 with 1 Axes>"
      ]
     },
     "metadata": {
      "needs_background": "light"
     },
     "output_type": "display_data"
    },
    {
     "data": {
      "text/plain": [
       "16"
      ]
     },
     "execution_count": 41,
     "metadata": {},
     "output_type": "execute_result"
    }
   ],
   "source": [
    "plt.figure(figsize=(15,8))\n",
    "sns.scatterplot(x=df['Age'],y=df['Potential'],hue=df['Preferred Foot'],style=df['Skill Moves'],size=df['Height'])\n",
    "plt.show()\n",
    "df['Age'].min()"
   ]
  },
  {
   "cell_type": "code",
   "execution_count": 42,
   "id": "606c7279",
   "metadata": {},
   "outputs": [
    {
     "data": {
      "text/plain": [
       "<AxesSubplot:xlabel='Preferred Foot', ylabel='Age'>"
      ]
     },
     "execution_count": 42,
     "metadata": {},
     "output_type": "execute_result"
    },
    {
     "data": {
      "image/png": "[encoded data removed]",
      "text/plain": [
       "<Figure size 576x432 with 1 Axes>"
      ]
     },
     "metadata": {
      "needs_background": "light"
     },
     "output_type": "display_data"
    }
   ],
   "source": [
    "plt.figure(figsize=(8,6))\n",
    "sns.barplot(x=df['Preferred Foot'],y=df['Age'],hue=df['Skill Moves'])"
   ]
  },
  {
   "cell_type": "code",
   "execution_count": 43,
   "id": "3b9a24be",
   "metadata": {},
   "outputs": [
    {
     "data": {
      "text/html": [
       "<div>\n",
       "<style scoped>\n",
       "    .dataframe tbody tr th:only-of-type {\n",
       "        vertical-align: middle;\n",
       "    }\n",
       "\n",
       "    .dataframe tbody tr th {\n",
       "        vertical-align: top;\n",
       "    }\n",
       "\n",
       "    .dataframe thead th {\n",
       "        text-align: right;\n",
       "    }\n",
       "</style>\n",
       "<table border=\"1\" class=\"dataframe\">\n",
       "  <thead>\n",
       "    <tr style=\"text-align: right;\">\n",
       "      <th></th>\n",
       "      <th>Name</th>\n",
       "      <th>Nationality</th>\n",
       "      <th>Club</th>\n",
       "      <th>Preferred Foot</th>\n",
       "      <th>Position</th>\n",
       "    </tr>\n",
       "  </thead>\n",
       "  <tbody>\n",
       "    <tr>\n",
       "      <th>count</th>\n",
       "      <td>13800</td>\n",
       "      <td>13800</td>\n",
       "      <td>13800</td>\n",
       "      <td>13800</td>\n",
       "      <td>13800</td>\n",
       "    </tr>\n",
       "    <tr>\n",
       "      <th>unique</th>\n",
       "      <td>13169</td>\n",
       "      <td>159</td>\n",
       "      <td>651</td>\n",
       "      <td>2</td>\n",
       "      <td>27</td>\n",
       "    </tr>\n",
       "    <tr>\n",
       "      <th>top</th>\n",
       "      <td>J. Rodríguez</td>\n",
       "      <td>England</td>\n",
       "      <td>UD Almería</td>\n",
       "      <td>Right</td>\n",
       "      <td>ST</td>\n",
       "    </tr>\n",
       "    <tr>\n",
       "      <th>freq</th>\n",
       "      <td>7</td>\n",
       "      <td>1343</td>\n",
       "      <td>30</td>\n",
       "      <td>10585</td>\n",
       "      <td>1695</td>\n",
       "    </tr>\n",
       "  </tbody>\n",
       "</table>\n",
       "</div>"
      ],
      "text/plain": [
       "                Name Nationality        Club Preferred Foot Position\n",
       "count          13800       13800       13800          13800    13800\n",
       "unique         13169         159         651              2       27\n",
       "top     J. Rodríguez     England  UD Almería          Right       ST\n",
       "freq               7        1343          30          10585     1695"
      ]
     },
     "execution_count": 43,
     "metadata": {},
     "output_type": "execute_result"
    }
   ],
   "source": [
    "df.describe(include='object')"
   ]
  },
  {
   "cell_type": "code",
   "execution_count": 44,
   "id": "90fef032",
   "metadata": {},
   "outputs": [
    {
     "data": {
      "text/plain": [
       "<AxesSubplot:>"
      ]
     },
     "execution_count": 44,
     "metadata": {},
     "output_type": "execute_result"
    },
    {
     "data": {
      "image/png": "[encoded data removed]",
      "text/plain": [
       "<Figure size 432x288 with 1 Axes>"
      ]
     },
     "metadata": {
      "needs_background": "light"
     },
     "output_type": "display_data"
    }
   ],
   "source": [
    "# What is the variation based on position\n",
    "\n",
    "top_10_pos=df['Position'].value_counts().nlargest(10)\n",
    "top_10_pos.plot(kind='barh')"
   ]
  },
  {
   "cell_type": "code",
   "execution_count": 45,
   "id": "405421e6",
   "metadata": {},
   "outputs": [
    {
     "data": {
      "image/png": "[encoded data removed]",
      "text/plain": [
       "<Figure size 432x432 with 1 Axes>"
      ]
     },
     "metadata": {},
     "output_type": "display_data"
    }
   ],
   "source": [
    "plt.figure(figsize=(6,6))\n",
    "colors = ['#ff9999','#66b3ff','#99ff99','#ffcc99']\n",
    "df['Preferred Foot'].value_counts().plot(kind='pie',colors=colors,autopct='%0.1f%%',explode=[0,0.1])\n",
    "plt.title(\"Distribution of players' preferred foot\",size=15)\n",
    "plt.ylabel('Preferred Foot',size=12)\n",
    "plt.show()"
   ]
  },
  {
   "cell_type": "code",
   "execution_count": 46,
   "id": "41e86184",
   "metadata": {},
   "outputs": [
    {
     "data": {
      "image/png": "[encoded data removed]",
      "text/plain": [
       "<Figure size 576x576 with 1 Axes>"
      ]
     },
     "metadata": {},
     "output_type": "display_data"
    }
   ],
   "source": [
    "plt.figure(figsize=(8,8))\n",
    "top_10_nat=df['Nationality'].value_counts().nlargest(10)\n",
    "top_10_nat.plot(kind='pie',autopct='%0.1f%%')\n",
    "plt.title(\"Distribution of players' Nationality\",size=13)\n",
    "plt.ylabel('')\n",
    "plt.show()"
   ]
  },
  {
   "cell_type": "markdown",
   "id": "665dedb0",
   "metadata": {},
   "source": [
    "### Checking for assumptions of Linear Regression"
   ]
  },
  {
   "cell_type": "markdown",
   "id": "61ff9ad1",
   "metadata": {},
   "source": [
    "### Asusmptions are as follows\n",
    "- 1. Target variable should be continuous numeric\n",
    "- 2. Linear Relationship should be present between features and target variable\n",
    "- 3. No MultiCollinearity should be present\n",
    "- 4. No Autocorrelation should be present\n",
    "- 5. Homoscedasticity should be present\n",
    "- 6. Normality of residuals should be present"
   ]
  },
  {
   "cell_type": "markdown",
   "id": "24829cf1",
   "metadata": {},
   "source": [
    "#### 1. Checking whether our target variable is continuous numeric"
   ]
  },
  {
   "cell_type": "code",
   "execution_count": 47,
   "id": "32f4c64d",
   "metadata": {},
   "outputs": [
    {
     "data": {
      "text/plain": [
       "dtype('float64')"
      ]
     },
     "execution_count": 47,
     "metadata": {},
     "output_type": "execute_result"
    }
   ],
   "source": [
    "df['Value'].dtypes"
   ]
  },
  {
   "cell_type": "markdown",
   "id": "abb14a03",
   "metadata": {},
   "source": [
    "##### As seen our target variable is of float data type\n",
    "##### Hence our first assumption is validated"
   ]
  },
  {
   "cell_type": "markdown",
   "id": "d8bd865b",
   "metadata": {},
   "source": [
    "#### 2. Checking for linear relationship between Target Variable and Features "
   ]
  },
  {
   "cell_type": "code",
   "execution_count": 48,
   "id": "6ce0d939",
   "metadata": {},
   "outputs": [
    {
     "data": {
      "text/plain": [
       "<AxesSubplot:>"
      ]
     },
     "execution_count": 48,
     "metadata": {},
     "output_type": "execute_result"
    },
    {
     "data": {
      "image/png": "[encoded data removed]",
      "text/plain": [
       "<Figure size 1080x576 with 2 Axes>"
      ]
     },
     "metadata": {
      "needs_background": "light"
     },
     "output_type": "display_data"
    }
   ],
   "source": [
    "plt.figure(figsize=(15,8))\n",
    "df_num_corr=sns.heatmap(df_num.corr(),annot=True,linewidths=0.1)\n",
    "df_num_corr"
   ]
  },
  {
   "cell_type": "code",
   "execution_count": 49,
   "id": "50062bab",
   "metadata": {},
   "outputs": [],
   "source": [
    "# Looking at the above HeatMap, it can be observed that the features highly correlated (corr>=6) with target are\n",
    "# Overall, Wage, International Reputation, Release Clause\n",
    "# Though, to double check we will plot scatter plot of these features with our target"
   ]
  },
  {
   "cell_type": "code",
   "execution_count": 50,
   "id": "249f120a",
   "metadata": {},
   "outputs": [
    {
     "data": {
      "text/plain": [
       "<matplotlib.collections.PathCollection at 0x1c66bba7af0>"
      ]
     },
     "execution_count": 50,
     "metadata": {},
     "output_type": "execute_result"
    },
    {
     "data": {
      "image/png": "[encoded data removed]",
      "text/plain": [
       "<Figure size 432x288 with 1 Axes>"
      ]
     },
     "metadata": {
      "needs_background": "light"
     },
     "output_type": "display_data"
    }
   ],
   "source": [
    "plt.scatter(df['Overall'],df['Value'])"
   ]
  },
  {
   "cell_type": "code",
   "execution_count": 51,
   "id": "6d811629",
   "metadata": {},
   "outputs": [
    {
     "data": {
      "text/plain": [
       "<matplotlib.collections.PathCollection at 0x1c66cf40c40>"
      ]
     },
     "execution_count": 51,
     "metadata": {},
     "output_type": "execute_result"
    },
    {
     "data": {
      "image/png": "[encoded data removed]",
      "text/plain": [
       "<Figure size 432x288 with 1 Axes>"
      ]
     },
     "metadata": {
      "needs_background": "light"
     },
     "output_type": "display_data"
    }
   ],
   "source": [
    "plt.scatter(df['Wage'],df['Value'])"
   ]
  },
  {
   "cell_type": "code",
   "execution_count": 52,
   "id": "fe26a230",
   "metadata": {},
   "outputs": [
    {
     "data": {
      "text/plain": [
       "<matplotlib.collections.PathCollection at 0x1c66cd91b20>"
      ]
     },
     "execution_count": 52,
     "metadata": {},
     "output_type": "execute_result"
    },
    {
     "data": {
      "image/png": "[encoded data removed]",
      "text/plain": [
       "<Figure size 432x288 with 1 Axes>"
      ]
     },
     "metadata": {
      "needs_background": "light"
     },
     "output_type": "display_data"
    }
   ],
   "source": [
    "plt.scatter(df['International Reputation'],df['Value'])"
   ]
  },
  {
   "cell_type": "code",
   "execution_count": 53,
   "id": "41daf4d5",
   "metadata": {},
   "outputs": [
    {
     "data": {
      "text/plain": [
       "<matplotlib.collections.PathCollection at 0x1c66bb5d490>"
      ]
     },
     "execution_count": 53,
     "metadata": {},
     "output_type": "execute_result"
    },
    {
     "data": {
      "image/png": "[encoded data removed]",
      "text/plain": [
       "<Figure size 432x288 with 1 Axes>"
      ]
     },
     "metadata": {
      "needs_background": "light"
     },
     "output_type": "display_data"
    }
   ],
   "source": [
    "plt.scatter(df['Release Clause'],df['Value'])"
   ]
  },
  {
   "cell_type": "markdown",
   "id": "03f44a60",
   "metadata": {},
   "source": [
    "#### Splitting the data into train set and test set"
   ]
  },
  {
   "cell_type": "code",
   "execution_count": 54,
   "id": "d7422a6e",
   "metadata": {},
   "outputs": [],
   "source": [
    "# sepereating our target variable from the rest of the data\n",
    "\n",
    "X=df.drop(columns='Value',axis=1)\n",
    "y=df.Value"
   ]
  },
  {
   "cell_type": "code",
   "execution_count": 55,
   "id": "5647b039",
   "metadata": {},
   "outputs": [],
   "source": [
    "# splitting the numerical and categorical data\n",
    "\n",
    "X_num=X.select_dtypes(include='number')\n",
    "X_cat=X.select_dtypes(include='object')"
   ]
  },
  {
   "cell_type": "code",
   "execution_count": 56,
   "id": "401957b6",
   "metadata": {},
   "outputs": [],
   "source": [
    "# Standardizing numerical data\n",
    "\n",
    "ss=MinMaxScaler()\n",
    "X_num_scaled = ss.fit_transform(X_num)"
   ]
  },
  {
   "cell_type": "code",
   "execution_count": 57,
   "id": "4e27a9fe",
   "metadata": {},
   "outputs": [
    {
     "data": {
      "text/plain": [
       "numpy.ndarray"
      ]
     },
     "execution_count": 57,
     "metadata": {},
     "output_type": "execute_result"
    }
   ],
   "source": [
    "type(X_num_scaled)"
   ]
  },
  {
   "cell_type": "code",
   "execution_count": 58,
   "id": "bc1eb643",
   "metadata": {},
   "outputs": [],
   "source": [
    "# we need to convert to X_num_scaled back to pandas dataframe from numpy array\n",
    "\n",
    "X_num_scaled=pd.DataFrame(X_num_scaled,columns=X_num.columns,index=X_num.index)"
   ]
  },
  {
   "cell_type": "code",
   "execution_count": 59,
   "id": "f99373e9",
   "metadata": {},
   "outputs": [
    {
     "data": {
      "text/html": [
       "<div>\n",
       "<style scoped>\n",
       "    .dataframe tbody tr th:only-of-type {\n",
       "        vertical-align: middle;\n",
       "    }\n",
       "\n",
       "    .dataframe tbody tr th {\n",
       "        vertical-align: top;\n",
       "    }\n",
       "\n",
       "    .dataframe thead th {\n",
       "        text-align: right;\n",
       "    }\n",
       "</style>\n",
       "<table border=\"1\" class=\"dataframe\">\n",
       "  <thead>\n",
       "    <tr style=\"text-align: right;\">\n",
       "      <th></th>\n",
       "      <th>Age</th>\n",
       "      <th>Overall</th>\n",
       "      <th>Potential</th>\n",
       "      <th>Wage</th>\n",
       "      <th>International Reputation</th>\n",
       "      <th>Skill Moves</th>\n",
       "      <th>Joined</th>\n",
       "      <th>Height</th>\n",
       "      <th>Weight</th>\n",
       "      <th>Release Clause</th>\n",
       "    </tr>\n",
       "  </thead>\n",
       "  <tbody>\n",
       "    <tr>\n",
       "      <th>count</th>\n",
       "      <td>13800.000000</td>\n",
       "      <td>13800.000000</td>\n",
       "      <td>13800.000000</td>\n",
       "      <td>13800.000000</td>\n",
       "      <td>13800.0</td>\n",
       "      <td>13800.000000</td>\n",
       "      <td>13800.000000</td>\n",
       "      <td>13800.000000</td>\n",
       "      <td>13800.000000</td>\n",
       "      <td>13800.000000</td>\n",
       "    </tr>\n",
       "    <tr>\n",
       "      <th>mean</th>\n",
       "      <td>0.384216</td>\n",
       "      <td>0.537368</td>\n",
       "      <td>0.465358</td>\n",
       "      <td>0.145833</td>\n",
       "      <td>0.0</td>\n",
       "      <td>0.419855</td>\n",
       "      <td>0.764667</td>\n",
       "      <td>0.554937</td>\n",
       "      <td>0.501910</td>\n",
       "      <td>0.160504</td>\n",
       "    </tr>\n",
       "    <tr>\n",
       "      <th>std</th>\n",
       "      <td>0.206261</td>\n",
       "      <td>0.191527</td>\n",
       "      <td>0.161644</td>\n",
       "      <td>0.197834</td>\n",
       "      <td>0.0</td>\n",
       "      <td>0.223979</td>\n",
       "      <td>0.257822</td>\n",
       "      <td>0.173801</td>\n",
       "      <td>0.171503</td>\n",
       "      <td>0.170999</td>\n",
       "    </tr>\n",
       "    <tr>\n",
       "      <th>min</th>\n",
       "      <td>0.000000</td>\n",
       "      <td>0.000000</td>\n",
       "      <td>0.000000</td>\n",
       "      <td>0.000000</td>\n",
       "      <td>0.0</td>\n",
       "      <td>0.000000</td>\n",
       "      <td>0.000000</td>\n",
       "      <td>0.000000</td>\n",
       "      <td>0.000000</td>\n",
       "      <td>0.000000</td>\n",
       "    </tr>\n",
       "    <tr>\n",
       "      <th>25%</th>\n",
       "      <td>0.227273</td>\n",
       "      <td>0.428571</td>\n",
       "      <td>0.343750</td>\n",
       "      <td>0.000000</td>\n",
       "      <td>0.0</td>\n",
       "      <td>0.333333</td>\n",
       "      <td>0.600000</td>\n",
       "      <td>0.400000</td>\n",
       "      <td>0.375000</td>\n",
       "      <td>0.043638</td>\n",
       "    </tr>\n",
       "    <tr>\n",
       "      <th>50%</th>\n",
       "      <td>0.363636</td>\n",
       "      <td>0.571429</td>\n",
       "      <td>0.468750</td>\n",
       "      <td>0.050000</td>\n",
       "      <td>0.0</td>\n",
       "      <td>0.333333</td>\n",
       "      <td>0.800000</td>\n",
       "      <td>0.533333</td>\n",
       "      <td>0.500000</td>\n",
       "      <td>0.093039</td>\n",
       "    </tr>\n",
       "    <tr>\n",
       "      <th>75%</th>\n",
       "      <td>0.545455</td>\n",
       "      <td>0.678571</td>\n",
       "      <td>0.562500</td>\n",
       "      <td>0.200000</td>\n",
       "      <td>0.0</td>\n",
       "      <td>0.666667</td>\n",
       "      <td>1.000000</td>\n",
       "      <td>0.666667</td>\n",
       "      <td>0.625000</td>\n",
       "      <td>0.206574</td>\n",
       "    </tr>\n",
       "    <tr>\n",
       "      <th>max</th>\n",
       "      <td>1.000000</td>\n",
       "      <td>1.000000</td>\n",
       "      <td>1.000000</td>\n",
       "      <td>1.000000</td>\n",
       "      <td>0.0</td>\n",
       "      <td>1.000000</td>\n",
       "      <td>1.000000</td>\n",
       "      <td>1.000000</td>\n",
       "      <td>1.000000</td>\n",
       "      <td>1.000000</td>\n",
       "    </tr>\n",
       "  </tbody>\n",
       "</table>\n",
       "</div>"
      ],
      "text/plain": [
       "                Age       Overall     Potential          Wage  \\\n",
       "count  13800.000000  13800.000000  13800.000000  13800.000000   \n",
       "mean       0.384216      0.537368      0.465358      0.145833   \n",
       "std        0.206261      0.191527      0.161644      0.197834   \n",
       "min        0.000000      0.000000      0.000000      0.000000   \n",
       "25%        0.227273      0.428571      0.343750      0.000000   \n",
       "50%        0.363636      0.571429      0.468750      0.050000   \n",
       "75%        0.545455      0.678571      0.562500      0.200000   \n",
       "max        1.000000      1.000000      1.000000      1.000000   \n",
       "\n",
       "       International Reputation   Skill Moves        Joined        Height  \\\n",
       "count                   13800.0  13800.000000  13800.000000  13800.000000   \n",
       "mean                        0.0      0.419855      0.764667      0.554937   \n",
       "std                         0.0      0.223979      0.257822      0.173801   \n",
       "min                         0.0      0.000000      0.000000      0.000000   \n",
       "25%                         0.0      0.333333      0.600000      0.400000   \n",
       "50%                         0.0      0.333333      0.800000      0.533333   \n",
       "75%                         0.0      0.666667      1.000000      0.666667   \n",
       "max                         0.0      1.000000      1.000000      1.000000   \n",
       "\n",
       "             Weight  Release Clause  \n",
       "count  13800.000000    13800.000000  \n",
       "mean       0.501910        0.160504  \n",
       "std        0.171503        0.170999  \n",
       "min        0.000000        0.000000  \n",
       "25%        0.375000        0.043638  \n",
       "50%        0.500000        0.093039  \n",
       "75%        0.625000        0.206574  \n",
       "max        1.000000        1.000000  "
      ]
     },
     "execution_count": 59,
     "metadata": {},
     "output_type": "execute_result"
    }
   ],
   "source": [
    "# checking whether the data is standardized or not\n",
    "\n",
    "X_num_scaled.describe()"
   ]
  },
  {
   "cell_type": "code",
   "execution_count": 60,
   "id": "e09094c4",
   "metadata": {},
   "outputs": [
    {
     "data": {
      "text/html": [
       "<div>\n",
       "<style scoped>\n",
       "    .dataframe tbody tr th:only-of-type {\n",
       "        vertical-align: middle;\n",
       "    }\n",
       "\n",
       "    .dataframe tbody tr th {\n",
       "        vertical-align: top;\n",
       "    }\n",
       "\n",
       "    .dataframe thead th {\n",
       "        text-align: right;\n",
       "    }\n",
       "</style>\n",
       "<table border=\"1\" class=\"dataframe\">\n",
       "  <thead>\n",
       "    <tr style=\"text-align: right;\">\n",
       "      <th></th>\n",
       "      <th>Age</th>\n",
       "      <th>Overall</th>\n",
       "      <th>Potential</th>\n",
       "      <th>Wage</th>\n",
       "      <th>Skill Moves</th>\n",
       "      <th>Joined</th>\n",
       "      <th>Height</th>\n",
       "      <th>Weight</th>\n",
       "      <th>Release Clause</th>\n",
       "    </tr>\n",
       "  </thead>\n",
       "  <tbody>\n",
       "    <tr>\n",
       "      <th>992</th>\n",
       "      <td>0.954545</td>\n",
       "      <td>1.000000</td>\n",
       "      <td>0.68750</td>\n",
       "      <td>0.10</td>\n",
       "      <td>0.666667</td>\n",
       "      <td>1.0</td>\n",
       "      <td>0.600000</td>\n",
       "      <td>0.602273</td>\n",
       "      <td>0.423822</td>\n",
       "    </tr>\n",
       "    <tr>\n",
       "      <th>1019</th>\n",
       "      <td>0.909091</td>\n",
       "      <td>1.000000</td>\n",
       "      <td>0.68750</td>\n",
       "      <td>0.95</td>\n",
       "      <td>0.666667</td>\n",
       "      <td>0.6</td>\n",
       "      <td>0.733333</td>\n",
       "      <td>0.431818</td>\n",
       "      <td>0.631624</td>\n",
       "    </tr>\n",
       "    <tr>\n",
       "      <th>1199</th>\n",
       "      <td>0.681818</td>\n",
       "      <td>0.964286</td>\n",
       "      <td>0.65625</td>\n",
       "      <td>0.80</td>\n",
       "      <td>0.000000</td>\n",
       "      <td>1.0</td>\n",
       "      <td>0.866667</td>\n",
       "      <td>0.977273</td>\n",
       "      <td>0.886653</td>\n",
       "    </tr>\n",
       "    <tr>\n",
       "      <th>1212</th>\n",
       "      <td>0.818182</td>\n",
       "      <td>0.964286</td>\n",
       "      <td>0.65625</td>\n",
       "      <td>1.00</td>\n",
       "      <td>0.000000</td>\n",
       "      <td>0.8</td>\n",
       "      <td>0.733333</td>\n",
       "      <td>0.534091</td>\n",
       "      <td>0.612733</td>\n",
       "    </tr>\n",
       "    <tr>\n",
       "      <th>1273</th>\n",
       "      <td>0.772727</td>\n",
       "      <td>0.964286</td>\n",
       "      <td>0.65625</td>\n",
       "      <td>0.15</td>\n",
       "      <td>0.666667</td>\n",
       "      <td>1.0</td>\n",
       "      <td>0.266667</td>\n",
       "      <td>0.329545</td>\n",
       "      <td>0.622178</td>\n",
       "    </tr>\n",
       "  </tbody>\n",
       "</table>\n",
       "</div>"
      ],
      "text/plain": [
       "           Age   Overall  Potential  Wage  Skill Moves  Joined    Height  \\\n",
       "992   0.954545  1.000000    0.68750  0.10     0.666667     1.0  0.600000   \n",
       "1019  0.909091  1.000000    0.68750  0.95     0.666667     0.6  0.733333   \n",
       "1199  0.681818  0.964286    0.65625  0.80     0.000000     1.0  0.866667   \n",
       "1212  0.818182  0.964286    0.65625  1.00     0.000000     0.8  0.733333   \n",
       "1273  0.772727  0.964286    0.65625  0.15     0.666667     1.0  0.266667   \n",
       "\n",
       "        Weight  Release Clause  \n",
       "992   0.602273        0.423822  \n",
       "1019  0.431818        0.631624  \n",
       "1199  0.977273        0.886653  \n",
       "1212  0.534091        0.612733  \n",
       "1273  0.329545        0.622178  "
      ]
     },
     "execution_count": 60,
     "metadata": {},
     "output_type": "execute_result"
    }
   ],
   "source": [
    "# dropping International Reputation as its min and max both is zero\n",
    "\n",
    "X_num_scaled=X_num_scaled.drop(columns='International Reputation',axis=1)\n",
    "\n",
    "X_num_scaled.head()"
   ]
  },
  {
   "cell_type": "code",
   "execution_count": 61,
   "id": "75d29671",
   "metadata": {},
   "outputs": [],
   "source": [
    "# now we will encode categorical columns"
   ]
  },
  {
   "cell_type": "code",
   "execution_count": 62,
   "id": "9596f0c9",
   "metadata": {},
   "outputs": [
    {
     "data": {
      "text/html": [
       "<div>\n",
       "<style scoped>\n",
       "    .dataframe tbody tr th:only-of-type {\n",
       "        vertical-align: middle;\n",
       "    }\n",
       "\n",
       "    .dataframe tbody tr th {\n",
       "        vertical-align: top;\n",
       "    }\n",
       "\n",
       "    .dataframe thead th {\n",
       "        text-align: right;\n",
       "    }\n",
       "</style>\n",
       "<table border=\"1\" class=\"dataframe\">\n",
       "  <thead>\n",
       "    <tr style=\"text-align: right;\">\n",
       "      <th></th>\n",
       "      <th>Name</th>\n",
       "      <th>Nationality</th>\n",
       "      <th>Club</th>\n",
       "      <th>Preferred Foot</th>\n",
       "      <th>Position</th>\n",
       "    </tr>\n",
       "  </thead>\n",
       "  <tbody>\n",
       "    <tr>\n",
       "      <th>count</th>\n",
       "      <td>13800</td>\n",
       "      <td>13800</td>\n",
       "      <td>13800</td>\n",
       "      <td>13800</td>\n",
       "      <td>13800</td>\n",
       "    </tr>\n",
       "    <tr>\n",
       "      <th>unique</th>\n",
       "      <td>13169</td>\n",
       "      <td>159</td>\n",
       "      <td>651</td>\n",
       "      <td>2</td>\n",
       "      <td>27</td>\n",
       "    </tr>\n",
       "    <tr>\n",
       "      <th>top</th>\n",
       "      <td>J. Rodríguez</td>\n",
       "      <td>England</td>\n",
       "      <td>UD Almería</td>\n",
       "      <td>Right</td>\n",
       "      <td>ST</td>\n",
       "    </tr>\n",
       "    <tr>\n",
       "      <th>freq</th>\n",
       "      <td>7</td>\n",
       "      <td>1343</td>\n",
       "      <td>30</td>\n",
       "      <td>10585</td>\n",
       "      <td>1695</td>\n",
       "    </tr>\n",
       "  </tbody>\n",
       "</table>\n",
       "</div>"
      ],
      "text/plain": [
       "                Name Nationality        Club Preferred Foot Position\n",
       "count          13800       13800       13800          13800    13800\n",
       "unique         13169         159         651              2       27\n",
       "top     J. Rodríguez     England  UD Almería          Right       ST\n",
       "freq               7        1343          30          10585     1695"
      ]
     },
     "execution_count": 62,
     "metadata": {},
     "output_type": "execute_result"
    }
   ],
   "source": [
    "X_cat.describe()"
   ]
  },
  {
   "cell_type": "code",
   "execution_count": 63,
   "id": "dcb8ba84",
   "metadata": {},
   "outputs": [],
   "source": [
    "# firstly we will drop name and contract valid columns as it is irrelevant and one\n",
    "# hot encoding it will create more than 13000 columns"
   ]
  },
  {
   "cell_type": "code",
   "execution_count": 64,
   "id": "462ecbbb",
   "metadata": {},
   "outputs": [
    {
     "data": {
      "text/html": [
       "<div>\n",
       "<style scoped>\n",
       "    .dataframe tbody tr th:only-of-type {\n",
       "        vertical-align: middle;\n",
       "    }\n",
       "\n",
       "    .dataframe tbody tr th {\n",
       "        vertical-align: top;\n",
       "    }\n",
       "\n",
       "    .dataframe thead th {\n",
       "        text-align: right;\n",
       "    }\n",
       "</style>\n",
       "<table border=\"1\" class=\"dataframe\">\n",
       "  <thead>\n",
       "    <tr style=\"text-align: right;\">\n",
       "      <th></th>\n",
       "      <th>Nationality</th>\n",
       "      <th>Club</th>\n",
       "      <th>Preferred Foot</th>\n",
       "      <th>Position</th>\n",
       "    </tr>\n",
       "  </thead>\n",
       "  <tbody>\n",
       "    <tr>\n",
       "      <th>992</th>\n",
       "      <td>Argentina</td>\n",
       "      <td>Deportivo Cali</td>\n",
       "      <td>Right</td>\n",
       "      <td>ST</td>\n",
       "    </tr>\n",
       "    <tr>\n",
       "      <th>1019</th>\n",
       "      <td>Spain</td>\n",
       "      <td>Getafe CF</td>\n",
       "      <td>Right</td>\n",
       "      <td>RS</td>\n",
       "    </tr>\n",
       "    <tr>\n",
       "      <th>1199</th>\n",
       "      <td>Sweden</td>\n",
       "      <td>MKE Ankaragücü</td>\n",
       "      <td>Right</td>\n",
       "      <td>GK</td>\n",
       "    </tr>\n",
       "    <tr>\n",
       "      <th>1212</th>\n",
       "      <td>Spain</td>\n",
       "      <td>CD Leganés</td>\n",
       "      <td>Left</td>\n",
       "      <td>GK</td>\n",
       "    </tr>\n",
       "    <tr>\n",
       "      <th>1273</th>\n",
       "      <td>Colombia</td>\n",
       "      <td>Deportivo Cali</td>\n",
       "      <td>Right</td>\n",
       "      <td>CAM</td>\n",
       "    </tr>\n",
       "  </tbody>\n",
       "</table>\n",
       "</div>"
      ],
      "text/plain": [
       "     Nationality            Club Preferred Foot Position\n",
       "992    Argentina  Deportivo Cali          Right       ST\n",
       "1019       Spain       Getafe CF          Right       RS\n",
       "1199      Sweden  MKE Ankaragücü          Right       GK\n",
       "1212       Spain      CD Leganés           Left       GK\n",
       "1273    Colombia  Deportivo Cali          Right      CAM"
      ]
     },
     "execution_count": 64,
     "metadata": {},
     "output_type": "execute_result"
    }
   ],
   "source": [
    "X_cat=X_cat.drop(columns='Name',axis=1)\n",
    "\n",
    "X_cat.head()"
   ]
  },
  {
   "cell_type": "code",
   "execution_count": 65,
   "id": "5affa620",
   "metadata": {},
   "outputs": [],
   "source": [
    "X_cat_encoded = pd.get_dummies(X_cat,drop_first=False,dtype=int)   # we use drop_first to avoid multicollinearity"
   ]
  },
  {
   "cell_type": "code",
   "execution_count": 66,
   "id": "a83f4b99",
   "metadata": {},
   "outputs": [
    {
     "data": {
      "text/html": [
       "<div>\n",
       "<style scoped>\n",
       "    .dataframe tbody tr th:only-of-type {\n",
       "        vertical-align: middle;\n",
       "    }\n",
       "\n",
       "    .dataframe tbody tr th {\n",
       "        vertical-align: top;\n",
       "    }\n",
       "\n",
       "    .dataframe thead th {\n",
       "        text-align: right;\n",
       "    }\n",
       "</style>\n",
       "<table border=\"1\" class=\"dataframe\">\n",
       "  <thead>\n",
       "    <tr style=\"text-align: right;\">\n",
       "      <th></th>\n",
       "      <th>Nationality_Afghanistan</th>\n",
       "      <th>Nationality_Albania</th>\n",
       "      <th>Nationality_Algeria</th>\n",
       "      <th>Nationality_Andorra</th>\n",
       "      <th>Nationality_Angola</th>\n",
       "      <th>Nationality_Antigua &amp; Barbuda</th>\n",
       "      <th>Nationality_Argentina</th>\n",
       "      <th>Nationality_Armenia</th>\n",
       "      <th>Nationality_Australia</th>\n",
       "      <th>Nationality_Austria</th>\n",
       "      <th>...</th>\n",
       "      <th>Position_RB</th>\n",
       "      <th>Position_RCB</th>\n",
       "      <th>Position_RCM</th>\n",
       "      <th>Position_RDM</th>\n",
       "      <th>Position_RF</th>\n",
       "      <th>Position_RM</th>\n",
       "      <th>Position_RS</th>\n",
       "      <th>Position_RW</th>\n",
       "      <th>Position_RWB</th>\n",
       "      <th>Position_ST</th>\n",
       "    </tr>\n",
       "  </thead>\n",
       "  <tbody>\n",
       "    <tr>\n",
       "      <th>992</th>\n",
       "      <td>0</td>\n",
       "      <td>0</td>\n",
       "      <td>0</td>\n",
       "      <td>0</td>\n",
       "      <td>0</td>\n",
       "      <td>0</td>\n",
       "      <td>1</td>\n",
       "      <td>0</td>\n",
       "      <td>0</td>\n",
       "      <td>0</td>\n",
       "      <td>...</td>\n",
       "      <td>0</td>\n",
       "      <td>0</td>\n",
       "      <td>0</td>\n",
       "      <td>0</td>\n",
       "      <td>0</td>\n",
       "      <td>0</td>\n",
       "      <td>0</td>\n",
       "      <td>0</td>\n",
       "      <td>0</td>\n",
       "      <td>1</td>\n",
       "    </tr>\n",
       "    <tr>\n",
       "      <th>1019</th>\n",
       "      <td>0</td>\n",
       "      <td>0</td>\n",
       "      <td>0</td>\n",
       "      <td>0</td>\n",
       "      <td>0</td>\n",
       "      <td>0</td>\n",
       "      <td>0</td>\n",
       "      <td>0</td>\n",
       "      <td>0</td>\n",
       "      <td>0</td>\n",
       "      <td>...</td>\n",
       "      <td>0</td>\n",
       "      <td>0</td>\n",
       "      <td>0</td>\n",
       "      <td>0</td>\n",
       "      <td>0</td>\n",
       "      <td>0</td>\n",
       "      <td>1</td>\n",
       "      <td>0</td>\n",
       "      <td>0</td>\n",
       "      <td>0</td>\n",
       "    </tr>\n",
       "    <tr>\n",
       "      <th>1199</th>\n",
       "      <td>0</td>\n",
       "      <td>0</td>\n",
       "      <td>0</td>\n",
       "      <td>0</td>\n",
       "      <td>0</td>\n",
       "      <td>0</td>\n",
       "      <td>0</td>\n",
       "      <td>0</td>\n",
       "      <td>0</td>\n",
       "      <td>0</td>\n",
       "      <td>...</td>\n",
       "      <td>0</td>\n",
       "      <td>0</td>\n",
       "      <td>0</td>\n",
       "      <td>0</td>\n",
       "      <td>0</td>\n",
       "      <td>0</td>\n",
       "      <td>0</td>\n",
       "      <td>0</td>\n",
       "      <td>0</td>\n",
       "      <td>0</td>\n",
       "    </tr>\n",
       "    <tr>\n",
       "      <th>1212</th>\n",
       "      <td>0</td>\n",
       "      <td>0</td>\n",
       "      <td>0</td>\n",
       "      <td>0</td>\n",
       "      <td>0</td>\n",
       "      <td>0</td>\n",
       "      <td>0</td>\n",
       "      <td>0</td>\n",
       "      <td>0</td>\n",
       "      <td>0</td>\n",
       "      <td>...</td>\n",
       "      <td>0</td>\n",
       "      <td>0</td>\n",
       "      <td>0</td>\n",
       "      <td>0</td>\n",
       "      <td>0</td>\n",
       "      <td>0</td>\n",
       "      <td>0</td>\n",
       "      <td>0</td>\n",
       "      <td>0</td>\n",
       "      <td>0</td>\n",
       "    </tr>\n",
       "    <tr>\n",
       "      <th>1273</th>\n",
       "      <td>0</td>\n",
       "      <td>0</td>\n",
       "      <td>0</td>\n",
       "      <td>0</td>\n",
       "      <td>0</td>\n",
       "      <td>0</td>\n",
       "      <td>0</td>\n",
       "      <td>0</td>\n",
       "      <td>0</td>\n",
       "      <td>0</td>\n",
       "      <td>...</td>\n",
       "      <td>0</td>\n",
       "      <td>0</td>\n",
       "      <td>0</td>\n",
       "      <td>0</td>\n",
       "      <td>0</td>\n",
       "      <td>0</td>\n",
       "      <td>0</td>\n",
       "      <td>0</td>\n",
       "      <td>0</td>\n",
       "      <td>0</td>\n",
       "    </tr>\n",
       "  </tbody>\n",
       "</table>\n",
       "<p>5 rows × 839 columns</p>\n",
       "</div>"
      ],
      "text/plain": [
       "      Nationality_Afghanistan  Nationality_Albania  Nationality_Algeria  \\\n",
       "992                         0                    0                    0   \n",
       "1019                        0                    0                    0   \n",
       "1199                        0                    0                    0   \n",
       "1212                        0                    0                    0   \n",
       "1273                        0                    0                    0   \n",
       "\n",
       "      Nationality_Andorra  Nationality_Angola  Nationality_Antigua & Barbuda  \\\n",
       "992                     0                   0                              0   \n",
       "1019                    0                   0                              0   \n",
       "1199                    0                   0                              0   \n",
       "1212                    0                   0                              0   \n",
       "1273                    0                   0                              0   \n",
       "\n",
       "      Nationality_Argentina  Nationality_Armenia  Nationality_Australia  \\\n",
       "992                       1                    0                      0   \n",
       "1019                      0                    0                      0   \n",
       "1199                      0                    0                      0   \n",
       "1212                      0                    0                      0   \n",
       "1273                      0                    0                      0   \n",
       "\n",
       "      Nationality_Austria  ...  Position_RB  Position_RCB  Position_RCM  \\\n",
       "992                     0  ...            0             0             0   \n",
       "1019                    0  ...            0             0             0   \n",
       "1199                    0  ...            0             0             0   \n",
       "1212                    0  ...            0             0             0   \n",
       "1273                    0  ...            0             0             0   \n",
       "\n",
       "      Position_RDM  Position_RF  Position_RM  Position_RS  Position_RW  \\\n",
       "992              0            0            0            0            0   \n",
       "1019             0            0            0            1            0   \n",
       "1199             0            0            0            0            0   \n",
       "1212             0            0            0            0            0   \n",
       "1273             0            0            0            0            0   \n",
       "\n",
       "      Position_RWB  Position_ST  \n",
       "992              0            1  \n",
       "1019             0            0  \n",
       "1199             0            0  \n",
       "1212             0            0  \n",
       "1273             0            0  \n",
       "\n",
       "[5 rows x 839 columns]"
      ]
     },
     "execution_count": 66,
     "metadata": {},
     "output_type": "execute_result"
    }
   ],
   "source": [
    "X_cat_encoded.head()"
   ]
  },
  {
   "cell_type": "code",
   "execution_count": 67,
   "id": "379c6a0b",
   "metadata": {},
   "outputs": [
    {
     "data": {
      "text/html": [
       "<div>\n",
       "<style scoped>\n",
       "    .dataframe tbody tr th:only-of-type {\n",
       "        vertical-align: middle;\n",
       "    }\n",
       "\n",
       "    .dataframe tbody tr th {\n",
       "        vertical-align: top;\n",
       "    }\n",
       "\n",
       "    .dataframe thead th {\n",
       "        text-align: right;\n",
       "    }\n",
       "</style>\n",
       "<table border=\"1\" class=\"dataframe\">\n",
       "  <thead>\n",
       "    <tr style=\"text-align: right;\">\n",
       "      <th></th>\n",
       "      <th>Age</th>\n",
       "      <th>Overall</th>\n",
       "      <th>Potential</th>\n",
       "      <th>Wage</th>\n",
       "      <th>Skill Moves</th>\n",
       "      <th>Joined</th>\n",
       "      <th>Height</th>\n",
       "      <th>Weight</th>\n",
       "      <th>Release Clause</th>\n",
       "      <th>Nationality_Afghanistan</th>\n",
       "      <th>...</th>\n",
       "      <th>Position_RB</th>\n",
       "      <th>Position_RCB</th>\n",
       "      <th>Position_RCM</th>\n",
       "      <th>Position_RDM</th>\n",
       "      <th>Position_RF</th>\n",
       "      <th>Position_RM</th>\n",
       "      <th>Position_RS</th>\n",
       "      <th>Position_RW</th>\n",
       "      <th>Position_RWB</th>\n",
       "      <th>Position_ST</th>\n",
       "    </tr>\n",
       "  </thead>\n",
       "  <tbody>\n",
       "    <tr>\n",
       "      <th>992</th>\n",
       "      <td>0.954545</td>\n",
       "      <td>1.000000</td>\n",
       "      <td>0.68750</td>\n",
       "      <td>0.10</td>\n",
       "      <td>0.666667</td>\n",
       "      <td>1.0</td>\n",
       "      <td>0.600000</td>\n",
       "      <td>0.602273</td>\n",
       "      <td>0.423822</td>\n",
       "      <td>0</td>\n",
       "      <td>...</td>\n",
       "      <td>0</td>\n",
       "      <td>0</td>\n",
       "      <td>0</td>\n",
       "      <td>0</td>\n",
       "      <td>0</td>\n",
       "      <td>0</td>\n",
       "      <td>0</td>\n",
       "      <td>0</td>\n",
       "      <td>0</td>\n",
       "      <td>1</td>\n",
       "    </tr>\n",
       "    <tr>\n",
       "      <th>1019</th>\n",
       "      <td>0.909091</td>\n",
       "      <td>1.000000</td>\n",
       "      <td>0.68750</td>\n",
       "      <td>0.95</td>\n",
       "      <td>0.666667</td>\n",
       "      <td>0.6</td>\n",
       "      <td>0.733333</td>\n",
       "      <td>0.431818</td>\n",
       "      <td>0.631624</td>\n",
       "      <td>0</td>\n",
       "      <td>...</td>\n",
       "      <td>0</td>\n",
       "      <td>0</td>\n",
       "      <td>0</td>\n",
       "      <td>0</td>\n",
       "      <td>0</td>\n",
       "      <td>0</td>\n",
       "      <td>1</td>\n",
       "      <td>0</td>\n",
       "      <td>0</td>\n",
       "      <td>0</td>\n",
       "    </tr>\n",
       "    <tr>\n",
       "      <th>1199</th>\n",
       "      <td>0.681818</td>\n",
       "      <td>0.964286</td>\n",
       "      <td>0.65625</td>\n",
       "      <td>0.80</td>\n",
       "      <td>0.000000</td>\n",
       "      <td>1.0</td>\n",
       "      <td>0.866667</td>\n",
       "      <td>0.977273</td>\n",
       "      <td>0.886653</td>\n",
       "      <td>0</td>\n",
       "      <td>...</td>\n",
       "      <td>0</td>\n",
       "      <td>0</td>\n",
       "      <td>0</td>\n",
       "      <td>0</td>\n",
       "      <td>0</td>\n",
       "      <td>0</td>\n",
       "      <td>0</td>\n",
       "      <td>0</td>\n",
       "      <td>0</td>\n",
       "      <td>0</td>\n",
       "    </tr>\n",
       "    <tr>\n",
       "      <th>1212</th>\n",
       "      <td>0.818182</td>\n",
       "      <td>0.964286</td>\n",
       "      <td>0.65625</td>\n",
       "      <td>1.00</td>\n",
       "      <td>0.000000</td>\n",
       "      <td>0.8</td>\n",
       "      <td>0.733333</td>\n",
       "      <td>0.534091</td>\n",
       "      <td>0.612733</td>\n",
       "      <td>0</td>\n",
       "      <td>...</td>\n",
       "      <td>0</td>\n",
       "      <td>0</td>\n",
       "      <td>0</td>\n",
       "      <td>0</td>\n",
       "      <td>0</td>\n",
       "      <td>0</td>\n",
       "      <td>0</td>\n",
       "      <td>0</td>\n",
       "      <td>0</td>\n",
       "      <td>0</td>\n",
       "    </tr>\n",
       "    <tr>\n",
       "      <th>1273</th>\n",
       "      <td>0.772727</td>\n",
       "      <td>0.964286</td>\n",
       "      <td>0.65625</td>\n",
       "      <td>0.15</td>\n",
       "      <td>0.666667</td>\n",
       "      <td>1.0</td>\n",
       "      <td>0.266667</td>\n",
       "      <td>0.329545</td>\n",
       "      <td>0.622178</td>\n",
       "      <td>0</td>\n",
       "      <td>...</td>\n",
       "      <td>0</td>\n",
       "      <td>0</td>\n",
       "      <td>0</td>\n",
       "      <td>0</td>\n",
       "      <td>0</td>\n",
       "      <td>0</td>\n",
       "      <td>0</td>\n",
       "      <td>0</td>\n",
       "      <td>0</td>\n",
       "      <td>0</td>\n",
       "    </tr>\n",
       "  </tbody>\n",
       "</table>\n",
       "<p>5 rows × 848 columns</p>\n",
       "</div>"
      ],
      "text/plain": [
       "           Age   Overall  Potential  Wage  Skill Moves  Joined    Height  \\\n",
       "992   0.954545  1.000000    0.68750  0.10     0.666667     1.0  0.600000   \n",
       "1019  0.909091  1.000000    0.68750  0.95     0.666667     0.6  0.733333   \n",
       "1199  0.681818  0.964286    0.65625  0.80     0.000000     1.0  0.866667   \n",
       "1212  0.818182  0.964286    0.65625  1.00     0.000000     0.8  0.733333   \n",
       "1273  0.772727  0.964286    0.65625  0.15     0.666667     1.0  0.266667   \n",
       "\n",
       "        Weight  Release Clause  Nationality_Afghanistan  ...  Position_RB  \\\n",
       "992   0.602273        0.423822                        0  ...            0   \n",
       "1019  0.431818        0.631624                        0  ...            0   \n",
       "1199  0.977273        0.886653                        0  ...            0   \n",
       "1212  0.534091        0.612733                        0  ...            0   \n",
       "1273  0.329545        0.622178                        0  ...            0   \n",
       "\n",
       "      Position_RCB  Position_RCM  Position_RDM  Position_RF  Position_RM  \\\n",
       "992              0             0             0            0            0   \n",
       "1019             0             0             0            0            0   \n",
       "1199             0             0             0            0            0   \n",
       "1212             0             0             0            0            0   \n",
       "1273             0             0             0            0            0   \n",
       "\n",
       "      Position_RS  Position_RW  Position_RWB  Position_ST  \n",
       "992             0            0             0            1  \n",
       "1019            1            0             0            0  \n",
       "1199            0            0             0            0  \n",
       "1212            0            0             0            0  \n",
       "1273            0            0             0            0  \n",
       "\n",
       "[5 rows x 848 columns]"
      ]
     },
     "execution_count": 67,
     "metadata": {},
     "output_type": "execute_result"
    }
   ],
   "source": [
    "X=pd.concat([X_num_scaled,X_cat_encoded],axis=1)\n",
    "X.head()"
   ]
  },
  {
   "cell_type": "code",
   "execution_count": 68,
   "id": "da0a0674",
   "metadata": {},
   "outputs": [
    {
     "data": {
      "text/plain": [
       "992      3200.0\n",
       "1019     3200.0\n",
       "1199     4700.0\n",
       "1212     3100.0\n",
       "1273     4700.0\n",
       "          ...  \n",
       "18149      50.0\n",
       "18150      50.0\n",
       "18151      60.0\n",
       "18152      50.0\n",
       "18153      50.0\n",
       "Name: Value, Length: 13800, dtype: float64"
      ]
     },
     "execution_count": 68,
     "metadata": {},
     "output_type": "execute_result"
    }
   ],
   "source": [
    "y"
   ]
  },
  {
   "cell_type": "code",
   "execution_count": 69,
   "id": "7246158a",
   "metadata": {},
   "outputs": [],
   "source": [
    "X_train,X_test,y_train,y_test=train_test_split(X,y,test_size=0.25,random_state=42)"
   ]
  },
  {
   "cell_type": "code",
   "execution_count": 70,
   "id": "2e632f4e",
   "metadata": {},
   "outputs": [
    {
     "name": "stdout",
     "output_type": "stream",
     "text": [
      "(10350, 848)\n",
      "(3450, 848)\n",
      "(10350,)\n",
      "(3450,)\n"
     ]
    }
   ],
   "source": [
    "print(X_train.shape)\n",
    "print(X_test.shape)\n",
    "print(y_train.shape)\n",
    "print(y_test.shape)"
   ]
  },
  {
   "cell_type": "markdown",
   "id": "b279df48",
   "metadata": {},
   "source": [
    "#### 3. Checking for multicollinearity"
   ]
  },
  {
   "cell_type": "code",
   "execution_count": 71,
   "id": "55059a94",
   "metadata": {},
   "outputs": [],
   "source": [
    "from statsmodels.stats.outliers_influence import variance_inflation_factor"
   ]
  },
  {
   "cell_type": "code",
   "execution_count": 72,
   "id": "a23fa367",
   "metadata": {},
   "outputs": [],
   "source": [
    "vif=[]"
   ]
  },
  {
   "cell_type": "code",
   "execution_count": 73,
   "id": "fa2a9f7a",
   "metadata": {},
   "outputs": [],
   "source": [
    "for i in range(X_num_scaled.shape[1]):\n",
    "    vif.append(variance_inflation_factor(X_num_scaled,i))"
   ]
  },
  {
   "cell_type": "code",
   "execution_count": 74,
   "id": "7276614f",
   "metadata": {},
   "outputs": [
    {
     "data": {
      "text/html": [
       "<div>\n",
       "<style scoped>\n",
       "    .dataframe tbody tr th:only-of-type {\n",
       "        vertical-align: middle;\n",
       "    }\n",
       "\n",
       "    .dataframe tbody tr th {\n",
       "        vertical-align: top;\n",
       "    }\n",
       "\n",
       "    .dataframe thead th {\n",
       "        text-align: right;\n",
       "    }\n",
       "</style>\n",
       "<table border=\"1\" class=\"dataframe\">\n",
       "  <thead>\n",
       "    <tr style=\"text-align: right;\">\n",
       "      <th></th>\n",
       "      <th>VIF</th>\n",
       "    </tr>\n",
       "  </thead>\n",
       "  <tbody>\n",
       "    <tr>\n",
       "      <th>Age</th>\n",
       "      <td>16.367440</td>\n",
       "    </tr>\n",
       "    <tr>\n",
       "      <th>Overall</th>\n",
       "      <td>50.839205</td>\n",
       "    </tr>\n",
       "    <tr>\n",
       "      <th>Potential</th>\n",
       "      <td>24.559407</td>\n",
       "    </tr>\n",
       "    <tr>\n",
       "      <th>Wage</th>\n",
       "      <td>2.830953</td>\n",
       "    </tr>\n",
       "    <tr>\n",
       "      <th>Skill Moves</th>\n",
       "      <td>5.841019</td>\n",
       "    </tr>\n",
       "    <tr>\n",
       "      <th>Joined</th>\n",
       "      <td>8.408312</td>\n",
       "    </tr>\n",
       "    <tr>\n",
       "      <th>Height</th>\n",
       "      <td>24.524615</td>\n",
       "    </tr>\n",
       "    <tr>\n",
       "      <th>Weight</th>\n",
       "      <td>23.442083</td>\n",
       "    </tr>\n",
       "    <tr>\n",
       "      <th>Release Clause</th>\n",
       "      <td>4.668863</td>\n",
       "    </tr>\n",
       "  </tbody>\n",
       "</table>\n",
       "</div>"
      ],
      "text/plain": [
       "                      VIF\n",
       "Age             16.367440\n",
       "Overall         50.839205\n",
       "Potential       24.559407\n",
       "Wage             2.830953\n",
       "Skill Moves      5.841019\n",
       "Joined           8.408312\n",
       "Height          24.524615\n",
       "Weight          23.442083\n",
       "Release Clause   4.668863"
      ]
     },
     "execution_count": 74,
     "metadata": {},
     "output_type": "execute_result"
    }
   ],
   "source": [
    "pd.DataFrame({'VIF':vif},index=X_num_scaled.columns[:])"
   ]
  },
  {
   "cell_type": "markdown",
   "id": "9fa4788d",
   "metadata": {},
   "source": [
    "#### Inference:\n",
    "\n",
    "- 1. As our highly correlated features (i.e., Wage and Release Clause) < 5 hence they are not violating multicollinearity assumption.\n",
    "- 2. Overall has very high multicollinearity hence we will not include it in our model"
   ]
  },
  {
   "cell_type": "markdown",
   "id": "09af4b41",
   "metadata": {},
   "source": [
    "### Linear Regression"
   ]
  },
  {
   "cell_type": "markdown",
   "id": "8ab17eb4",
   "metadata": {},
   "source": [
    "##### Using sklearn"
   ]
  },
  {
   "cell_type": "code",
   "execution_count": 75,
   "id": "9479f1e1",
   "metadata": {},
   "outputs": [],
   "source": [
    "from sklearn.linear_model import LinearRegression"
   ]
  },
  {
   "cell_type": "code",
   "execution_count": 76,
   "id": "b43a10c8",
   "metadata": {},
   "outputs": [],
   "source": [
    "# from the heatmap plotted below we will select features which are highly correlated i.e., correlation 0.6 or above"
   ]
  },
  {
   "cell_type": "code",
   "execution_count": 77,
   "id": "ad6d9e78",
   "metadata": {},
   "outputs": [
    {
     "data": {
      "text/plain": [
       "<AxesSubplot:>"
      ]
     },
     "execution_count": 77,
     "metadata": {},
     "output_type": "execute_result"
    },
    {
     "data": {
      "image/png": "[encoded data removed]",
      "text/plain": [
       "<Figure size 1080x576 with 2 Axes>"
      ]
     },
     "metadata": {
      "needs_background": "light"
     },
     "output_type": "display_data"
    }
   ],
   "source": [
    "plt.figure(figsize=(15,8))\n",
    "df_num_corr=sns.heatmap(df_num.corr(),annot=True,linewidths=0.1)\n",
    "df_num_corr"
   ]
  },
  {
   "cell_type": "code",
   "execution_count": 78,
   "id": "78050a3a",
   "metadata": {},
   "outputs": [],
   "source": [
    "# so our features which are highly correlated are Overall, International Reputation, Release Clause and Wage"
   ]
  },
  {
   "cell_type": "code",
   "execution_count": 79,
   "id": "7830b500",
   "metadata": {},
   "outputs": [],
   "source": [
    "lm=LinearRegression()"
   ]
  },
  {
   "cell_type": "code",
   "execution_count": 80,
   "id": "1fbd76df",
   "metadata": {},
   "outputs": [],
   "source": [
    "model_mlr = lm.fit(X_train[['Release Clause','Wage']],y_train)"
   ]
  },
  {
   "cell_type": "code",
   "execution_count": 81,
   "id": "2e0ba4c5",
   "metadata": {},
   "outputs": [
    {
     "data": {
      "text/plain": [
       "0.7792055981266981"
      ]
     },
     "execution_count": 81,
     "metadata": {},
     "output_type": "execute_result"
    }
   ],
   "source": [
    "# r square for the features\n",
    "\n",
    "model_mlr.score(X_train[['Release Clause','Wage']],y_train)"
   ]
  },
  {
   "cell_type": "code",
   "execution_count": 82,
   "id": "9ed6412d",
   "metadata": {},
   "outputs": [
    {
     "data": {
      "text/plain": [
       "(86.95912887358679, array([4041.75025596,  817.22388754]))"
      ]
     },
     "execution_count": 82,
     "metadata": {},
     "output_type": "execute_result"
    }
   ],
   "source": [
    "# b0, b1, and b2 coefficient \n",
    "\n",
    "model_mlr.intercept_,model_mlr.coef_"
   ]
  },
  {
   "cell_type": "code",
   "execution_count": 83,
   "id": "de1fcf78",
   "metadata": {},
   "outputs": [],
   "source": [
    "# predicted y\n",
    "\n",
    "yhat_train = model_mlr.predict(X_train[['Release Clause','Wage']])"
   ]
  },
  {
   "cell_type": "code",
   "execution_count": 84,
   "id": "96a5beba",
   "metadata": {},
   "outputs": [],
   "source": [
    "# calculating yhat by using regression equation b0 + b1x1 + b2x2\n",
    "\n",
    "yhat_train_calc = model_mlr.intercept_ +(model_mlr.coef_[0]*X_train['Release Clause']) + (model_mlr.coef_[1]*X_train['Wage'])"
   ]
  },
  {
   "cell_type": "code",
   "execution_count": 85,
   "id": "e3a6f319",
   "metadata": {},
   "outputs": [
    {
     "data": {
      "text/plain": [
       "(array([2729.60069014, 1914.13612557,  262.5712114 ,  586.34515865,\n",
       "         426.73033203, 2074.63883225,  891.75747609,  180.10988569,\n",
       "         381.30024981,  203.7793403 ]),\n",
       " 3541     2729.600690\n",
       " 15402    1914.136126\n",
       " 12960     262.571211\n",
       " 9459      586.345159\n",
       " 15164     426.730332\n",
       " 5455     2074.638832\n",
       " 9407      891.757476\n",
       " 17537     180.109886\n",
       " 12705     381.300250\n",
       " 15354     203.779340\n",
       " dtype: float64)"
      ]
     },
     "execution_count": 85,
     "metadata": {},
     "output_type": "execute_result"
    }
   ],
   "source": [
    "# checking actual y vs predicted y\n",
    "\n",
    "yhat_train[0:10],yhat_train_calc[0:10]"
   ]
  },
  {
   "cell_type": "code",
   "execution_count": 86,
   "id": "81fcf879",
   "metadata": {},
   "outputs": [],
   "source": [
    "# calculating R square from scratch"
   ]
  },
  {
   "cell_type": "code",
   "execution_count": 87,
   "id": "c65df588",
   "metadata": {},
   "outputs": [],
   "source": [
    "# calculating sum of sqaures \n",
    "\n",
    "SST = sum((y_train - np.mean(y_train))**2)\n",
    "SSE = sum((y_train - yhat_train)**2)\n",
    "SSR = sum((yhat_train - np.mean(y_train))**2)"
   ]
  },
  {
   "cell_type": "code",
   "execution_count": 88,
   "id": "c909866e",
   "metadata": {},
   "outputs": [
    {
     "data": {
      "text/plain": [
       "8490891123.874408"
      ]
     },
     "execution_count": 88,
     "metadata": {},
     "output_type": "execute_result"
    }
   ],
   "source": [
    "# calculating sum square of residuals + sum square of regressor\n",
    "\n",
    "SSE+SSR"
   ]
  },
  {
   "cell_type": "code",
   "execution_count": 89,
   "id": "6a29de7b",
   "metadata": {},
   "outputs": [
    {
     "data": {
      "text/plain": [
       "8490891123.874315"
      ]
     },
     "execution_count": 89,
     "metadata": {},
     "output_type": "execute_result"
    }
   ],
   "source": [
    "#sum square of totals\n",
    "\n",
    "SST"
   ]
  },
  {
   "cell_type": "code",
   "execution_count": 90,
   "id": "82670614",
   "metadata": {},
   "outputs": [],
   "source": [
    "model_mlr_r_sqr = SSR/SST"
   ]
  },
  {
   "cell_type": "code",
   "execution_count": 91,
   "id": "610f5e73",
   "metadata": {},
   "outputs": [
    {
     "data": {
      "text/plain": [
       "0.7792055981267082"
      ]
     },
     "execution_count": 91,
     "metadata": {},
     "output_type": "execute_result"
    }
   ],
   "source": [
    "# calculated R square\n",
    "\n",
    "model_mlr_r_sqr"
   ]
  },
  {
   "cell_type": "code",
   "execution_count": 92,
   "id": "ed6f8401",
   "metadata": {},
   "outputs": [],
   "source": [
    "# calculated r square is the same as we obtianed from the model score"
   ]
  },
  {
   "cell_type": "code",
   "execution_count": 93,
   "id": "91f0e6cc",
   "metadata": {},
   "outputs": [],
   "source": [
    "# predict y test using model"
   ]
  },
  {
   "cell_type": "code",
   "execution_count": 94,
   "id": "6abcaee2",
   "metadata": {},
   "outputs": [],
   "source": [
    "yhat_test = model_mlr.predict(X_test[['Release Clause','Wage']])"
   ]
  },
  {
   "cell_type": "code",
   "execution_count": 95,
   "id": "1ab3577a",
   "metadata": {},
   "outputs": [],
   "source": [
    "# compute mse on train and test"
   ]
  },
  {
   "cell_type": "code",
   "execution_count": 96,
   "id": "2f983203",
   "metadata": {},
   "outputs": [
    {
     "data": {
      "text/plain": [
       "(181134.41807412214, 200657.45583643965)"
      ]
     },
     "execution_count": 96,
     "metadata": {},
     "output_type": "execute_result"
    }
   ],
   "source": [
    "model_mlr_MSE_train = np.mean((y_train - yhat_train)**2)\n",
    "model_mlr_MSE_test = np.mean((y_test - yhat_test)**2)\n",
    "model_mlr_MSE_train, model_mlr_MSE_test"
   ]
  },
  {
   "cell_type": "code",
   "execution_count": 97,
   "id": "43ac64b0",
   "metadata": {},
   "outputs": [
    {
     "data": {
      "text/plain": [
       "(44.579594780773654, 47.9409829415972)"
      ]
     },
     "execution_count": 97,
     "metadata": {},
     "output_type": "execute_result"
    }
   ],
   "source": [
    "# compute MAPE on train and test\n",
    "model_mlr_MAPE_train = np.mean((abs(y_train - yhat_train)/y_train)*100)\n",
    "model_mlr_MAPE_test = np.mean((abs(y_test - yhat_test)/y_test)*100)\n",
    "\n",
    "model_mlr_MAPE_train, model_mlr_MAPE_test"
   ]
  },
  {
   "cell_type": "code",
   "execution_count": 98,
   "id": "f66cd67d",
   "metadata": {},
   "outputs": [],
   "source": [
    "model_mlr_performance = {'model':\"model_mlr\",'R Sq':model_mlr_r_sqr,'train_MSE':model_mlr_MSE_train,'test_MSE':model_mlr_MSE_test,'train_MAPE':model_mlr_MAPE_train,'test_MAPE':model_mlr_MAPE_test}"
   ]
  },
  {
   "cell_type": "code",
   "execution_count": 99,
   "id": "d699a01f",
   "metadata": {},
   "outputs": [
    {
     "data": {
      "text/plain": [
       "{'model': 'model_mlr',\n",
       " 'R Sq': 0.7792055981267082,\n",
       " 'train_MSE': 181134.41807412214,\n",
       " 'test_MSE': 200657.45583643965,\n",
       " 'train_MAPE': 44.579594780773654,\n",
       " 'test_MAPE': 47.9409829415972}"
      ]
     },
     "execution_count": 99,
     "metadata": {},
     "output_type": "execute_result"
    }
   ],
   "source": [
    "model_mlr_performance"
   ]
  },
  {
   "cell_type": "raw",
   "id": "ca3d470c",
   "metadata": {},
   "source": [
    "Lesser difference between train MAPE and test MAPE\n",
    "Higher difference between train MSE and test MSE"
   ]
  },
  {
   "cell_type": "markdown",
   "id": "b969f2f6",
   "metadata": {},
   "source": [
    "##### Using stats models"
   ]
  },
  {
   "cell_type": "code",
   "execution_count": 100,
   "id": "d490b93e",
   "metadata": {},
   "outputs": [],
   "source": [
    "import statsmodels.api as sm"
   ]
  },
  {
   "cell_type": "code",
   "execution_count": 101,
   "id": "8c6ab4e4",
   "metadata": {},
   "outputs": [],
   "source": [
    "X_new_train = X_train[['Release Clause','Wage']]\n",
    "X_new_test = X_test[['Release Clause','Wage']]"
   ]
  },
  {
   "cell_type": "code",
   "execution_count": 102,
   "id": "485ed1ad",
   "metadata": {},
   "outputs": [],
   "source": [
    "X_new_train = sm.add_constant(X_new_train)"
   ]
  },
  {
   "cell_type": "code",
   "execution_count": 103,
   "id": "4635e8ac",
   "metadata": {},
   "outputs": [
    {
     "data": {
      "text/html": [
       "<div>\n",
       "<style scoped>\n",
       "    .dataframe tbody tr th:only-of-type {\n",
       "        vertical-align: middle;\n",
       "    }\n",
       "\n",
       "    .dataframe tbody tr th {\n",
       "        vertical-align: top;\n",
       "    }\n",
       "\n",
       "    .dataframe thead th {\n",
       "        text-align: right;\n",
       "    }\n",
       "</style>\n",
       "<table border=\"1\" class=\"dataframe\">\n",
       "  <thead>\n",
       "    <tr style=\"text-align: right;\">\n",
       "      <th></th>\n",
       "      <th>const</th>\n",
       "      <th>Release Clause</th>\n",
       "      <th>Wage</th>\n",
       "    </tr>\n",
       "  </thead>\n",
       "  <tbody>\n",
       "    <tr>\n",
       "      <th>3541</th>\n",
       "      <td>1.0</td>\n",
       "      <td>0.603287</td>\n",
       "      <td>0.25</td>\n",
       "    </tr>\n",
       "    <tr>\n",
       "      <th>15402</th>\n",
       "      <td>1.0</td>\n",
       "      <td>0.431856</td>\n",
       "      <td>0.10</td>\n",
       "    </tr>\n",
       "    <tr>\n",
       "      <th>12960</th>\n",
       "      <td>1.0</td>\n",
       "      <td>0.043450</td>\n",
       "      <td>0.00</td>\n",
       "    </tr>\n",
       "    <tr>\n",
       "      <th>9459</th>\n",
       "      <td>1.0</td>\n",
       "      <td>0.093228</td>\n",
       "      <td>0.15</td>\n",
       "    </tr>\n",
       "    <tr>\n",
       "      <th>15164</th>\n",
       "      <td>1.0</td>\n",
       "      <td>0.084065</td>\n",
       "      <td>0.00</td>\n",
       "    </tr>\n",
       "  </tbody>\n",
       "</table>\n",
       "</div>"
      ],
      "text/plain": [
       "       const  Release Clause  Wage\n",
       "3541     1.0        0.603287  0.25\n",
       "15402    1.0        0.431856  0.10\n",
       "12960    1.0        0.043450  0.00\n",
       "9459     1.0        0.093228  0.15\n",
       "15164    1.0        0.084065  0.00"
      ]
     },
     "execution_count": 103,
     "metadata": {},
     "output_type": "execute_result"
    }
   ],
   "source": [
    "X_new_train.head()"
   ]
  },
  {
   "cell_type": "code",
   "execution_count": 104,
   "id": "ccd8b1c3",
   "metadata": {},
   "outputs": [],
   "source": [
    "sm_model = sm.OLS(y_train,X_new_train)\n",
    "res = sm_model.fit()"
   ]
  },
  {
   "cell_type": "code",
   "execution_count": 105,
   "id": "9cf79b0c",
   "metadata": {},
   "outputs": [
    {
     "data": {
      "text/html": [
       "<table class=\"simpletable\">\n",
       "<caption>OLS Regression Results</caption>\n",
       "<tr>\n",
       "  <th>Dep. Variable:</th>          <td>Value</td>      <th>  R-squared:         </th> <td>   0.779</td> \n",
       "</tr>\n",
       "<tr>\n",
       "  <th>Model:</th>                   <td>OLS</td>       <th>  Adj. R-squared:    </th> <td>   0.779</td> \n",
       "</tr>\n",
       "<tr>\n",
       "  <th>Method:</th>             <td>Least Squares</td>  <th>  F-statistic:       </th> <td>1.826e+04</td>\n",
       "</tr>\n",
       "<tr>\n",
       "  <th>Date:</th>             <td>Thu, 16 Nov 2023</td> <th>  Prob (F-statistic):</th>  <td>  0.00</td>  \n",
       "</tr>\n",
       "<tr>\n",
       "  <th>Time:</th>                 <td>22:57:20</td>     <th>  Log-Likelihood:    </th> <td> -77340.</td> \n",
       "</tr>\n",
       "<tr>\n",
       "  <th>No. Observations:</th>      <td> 10350</td>      <th>  AIC:               </th> <td>1.547e+05</td>\n",
       "</tr>\n",
       "<tr>\n",
       "  <th>Df Residuals:</th>          <td> 10347</td>      <th>  BIC:               </th> <td>1.547e+05</td>\n",
       "</tr>\n",
       "<tr>\n",
       "  <th>Df Model:</th>              <td>     2</td>      <th>                     </th>     <td> </td>    \n",
       "</tr>\n",
       "<tr>\n",
       "  <th>Covariance Type:</th>      <td>nonrobust</td>    <th>                     </th>     <td> </td>    \n",
       "</tr>\n",
       "</table>\n",
       "<table class=\"simpletable\">\n",
       "<tr>\n",
       "         <td></td>           <th>coef</th>     <th>std err</th>      <th>t</th>      <th>P>|t|</th>  <th>[0.025</th>    <th>0.975]</th>  \n",
       "</tr>\n",
       "<tr>\n",
       "  <th>const</th>          <td>   86.9591</td> <td>    5.786</td> <td>   15.030</td> <td> 0.000</td> <td>   75.618</td> <td>   98.300</td>\n",
       "</tr>\n",
       "<tr>\n",
       "  <th>Release Clause</th> <td> 4041.7503</td> <td>   31.493</td> <td>  128.338</td> <td> 0.000</td> <td> 3980.018</td> <td> 4103.483</td>\n",
       "</tr>\n",
       "<tr>\n",
       "  <th>Wage</th>           <td>  817.2239</td> <td>   27.045</td> <td>   30.217</td> <td> 0.000</td> <td>  764.210</td> <td>  870.238</td>\n",
       "</tr>\n",
       "</table>\n",
       "<table class=\"simpletable\">\n",
       "<tr>\n",
       "  <th>Omnibus:</th>       <td>2636.098</td> <th>  Durbin-Watson:     </th> <td>   2.002</td> \n",
       "</tr>\n",
       "<tr>\n",
       "  <th>Prob(Omnibus):</th>  <td> 0.000</td>  <th>  Jarque-Bera (JB):  </th> <td>21455.270</td>\n",
       "</tr>\n",
       "<tr>\n",
       "  <th>Skew:</th>           <td>-0.995</td>  <th>  Prob(JB):          </th> <td>    0.00</td> \n",
       "</tr>\n",
       "<tr>\n",
       "  <th>Kurtosis:</th>       <td> 9.767</td>  <th>  Cond. No.          </th> <td>    9.20</td> \n",
       "</tr>\n",
       "</table><br/><br/>Notes:<br/>[1] Standard Errors assume that the covariance matrix of the errors is correctly specified."
      ],
      "text/plain": [
       "<class 'statsmodels.iolib.summary.Summary'>\n",
       "\"\"\"\n",
       "                            OLS Regression Results                            \n",
       "==============================================================================\n",
       "Dep. Variable:                  Value   R-squared:                       0.779\n",
       "Model:                            OLS   Adj. R-squared:                  0.779\n",
       "Method:                 Least Squares   F-statistic:                 1.826e+04\n",
       "Date:                Thu, 16 Nov 2023   Prob (F-statistic):               0.00\n",
       "Time:                        22:57:20   Log-Likelihood:                -77340.\n",
       "No. Observations:               10350   AIC:                         1.547e+05\n",
       "Df Residuals:                   10347   BIC:                         1.547e+05\n",
       "Df Model:                           2                                         \n",
       "Covariance Type:            nonrobust                                         \n",
       "==================================================================================\n",
       "                     coef    std err          t      P>|t|      [0.025      0.975]\n",
       "----------------------------------------------------------------------------------\n",
       "const             86.9591      5.786     15.030      0.000      75.618      98.300\n",
       "Release Clause  4041.7503     31.493    128.338      0.000    3980.018    4103.483\n",
       "Wage             817.2239     27.045     30.217      0.000     764.210     870.238\n",
       "==============================================================================\n",
       "Omnibus:                     2636.098   Durbin-Watson:                   2.002\n",
       "Prob(Omnibus):                  0.000   Jarque-Bera (JB):            21455.270\n",
       "Skew:                          -0.995   Prob(JB):                         0.00\n",
       "Kurtosis:                       9.767   Cond. No.                         9.20\n",
       "==============================================================================\n",
       "\n",
       "Notes:\n",
       "[1] Standard Errors assume that the covariance matrix of the errors is correctly specified.\n",
       "\"\"\""
      ]
     },
     "execution_count": 105,
     "metadata": {},
     "output_type": "execute_result"
    }
   ],
   "source": [
    "res.summary()"
   ]
  },
  {
   "cell_type": "markdown",
   "id": "9a1cd4d5",
   "metadata": {},
   "source": [
    "#### 4. Autocorrelation"
   ]
  },
  {
   "cell_type": "raw",
   "id": "3e7086bc",
   "metadata": {},
   "source": [
    "No autocorrelation observed in the data\n",
    "\n",
    "    This can be checked by checking the result of durbin watson test.Durbin watson test result varies between 0 and 4. If it is     around 2, then it means that there is no autocorrelation observed .As the durbin watson test result is 2.002, there is no       autocorrelation."
   ]
  },
  {
   "cell_type": "markdown",
   "id": "1f1ff795",
   "metadata": {},
   "source": [
    "#### 5. Homoskedasticity"
   ]
  },
  {
   "cell_type": "raw",
   "id": "615c7ac7",
   "metadata": {},
   "source": [
    "Residuals should have constant variance that is there should be Homoskedasticity \n",
    "\n",
    "    Gold Feld quant hypothesis test can be used to find Homoskedasticity.\n",
    "        H0 : Variances are equal across subgroups\n",
    "        Ha : Variances are not equal across subgroups"
   ]
  },
  {
   "cell_type": "code",
   "execution_count": 106,
   "id": "8aa7fc7f",
   "metadata": {},
   "outputs": [],
   "source": [
    "from statsmodels.stats.api import het_goldfeldquandt"
   ]
  },
  {
   "cell_type": "code",
   "execution_count": 107,
   "id": "05e974ec",
   "metadata": {},
   "outputs": [
    {
     "name": "stdout",
     "output_type": "stream",
     "text": [
      "F-stat value:  1.0511018516371688\n",
      "p value:  0.03657075193996194\n"
     ]
    }
   ],
   "source": [
    "gbq_test = het_goldfeldquandt(res.resid,X_new_train)\n",
    "print('F-stat value: ',gbq_test[0])\n",
    "print('p value: ',gbq_test[1])"
   ]
  },
  {
   "cell_type": "markdown",
   "id": "7a1e8875",
   "metadata": {},
   "source": [
    "#### \n",
    "- 1. As p-value<0.05, we reject H0 and conclude that Variances are not equal across subgroups i.e., there is heteroskedasticity"
   ]
  },
  {
   "cell_type": "code",
   "execution_count": 108,
   "id": "d62e8262",
   "metadata": {},
   "outputs": [
    {
     "data": {
      "image/png": "[encoded data removed]",
      "text/plain": [
       "<Figure size 432x288 with 1 Axes>"
      ]
     },
     "metadata": {
      "needs_background": "light"
     },
     "output_type": "display_data"
    }
   ],
   "source": [
    "errors = res.resid\n",
    "plt.scatter(res.fittedvalues, errors)\n",
    "plt.xlabel(\"Predicted Values\")\n",
    "plt.ylabel(\"Residuals\")\n",
    "plt.title(\"Residuals vs. Predicted Values\")\n",
    "plt.show()"
   ]
  },
  {
   "cell_type": "markdown",
   "id": "b3bd3df8",
   "metadata": {},
   "source": [
    "#### 6. Normality of Residuals"
   ]
  },
  {
   "cell_type": "raw",
   "id": "4cdb5a1e",
   "metadata": {},
   "source": [
    "According to this assumption, residuals should follow normal distribution.\n",
    "\n",
    "There are two hypothesis tests used to check normal distribution of residuals. Jarque-Bera test and shapiro test. \n",
    "Jarque-Bera test is used for large datasets (datasets greater than 1000 rows) where as shapiro test is used for small           datasets.\n",
    "\n",
    "H0: The errors are normally distributed\n",
    "Ha: The errors are not normally distributed"
   ]
  },
  {
   "cell_type": "code",
   "execution_count": 109,
   "id": "d70916eb",
   "metadata": {},
   "outputs": [
    {
     "data": {
      "image/png": "[encoded data removed]",
      "text/plain": [
       "<Figure size 576x576 with 1 Axes>"
      ]
     },
     "metadata": {
      "needs_background": "light"
     },
     "output_type": "display_data"
    }
   ],
   "source": [
    "errors = res.resid\n",
    "plt.figure(figsize=(8,8))\n",
    "plt.title('Error histogram')\n",
    "sns.histplot(errors,kde=True)\n",
    "plt.xlabel(\"Error\")\n",
    "plt.show()"
   ]
  },
  {
   "cell_type": "markdown",
   "id": "98d76071",
   "metadata": {},
   "source": [
    "Other than the above mentioned tests, f-test and t-test are also performed in regression.\n",
    "\n",
    "- 1. f-test assumptions:\n",
    "-  H0 : Co-efficients of each of the features is equal to zero\n",
    "-  Ha : Co-efficients of atleast one of the features is not equal to zero\n",
    "    \n",
    "- 2. Prob (F-statistic) in the above stats summary is 0.0. So co-efficient of atleast one of the feature is not equal to zero.\n",
    "\n",
    "- 3. t-test is performed for each column.\n",
    "  t-test assumptions:\n",
    "-  H0 : Co-efficient of feature is equal to zero\n",
    "-  Ha : Co-efficient of feature is not equal to zero"
   ]
  },
  {
   "cell_type": "code",
   "execution_count": null,
   "id": "f156f910",
   "metadata": {},
   "outputs": [],
   "source": []
  }
 ],
 "metadata": {
  "kernelspec": {
   "display_name": "Python 3 (ipykernel)",
   "language": "python",
   "name": "python3"
  },
  "language_info": {
   "codemirror_mode": {
    "name": "ipython",
    "version": 3
   },
   "file_extension": ".py",
   "mimetype": "text/x-python",
   "name": "python",
   "nbconvert_exporter": "python",
   "pygments_lexer": "ipython3",
   "version": "3.9.7"
  },
  "varInspector": {
   "cols": {
    "lenName": 16,
    "lenType": 16,
    "lenVar": 40
   },
   "kernels_config": {
    "python": {
     "delete_cmd_postfix": "",
     "delete_cmd_prefix": "del ",
     "library": "var_list.py",
     "varRefreshCmd": "print(var_dic_list())"
    },
    "r": {
     "delete_cmd_postfix": ") ",
     "delete_cmd_prefix": "rm(",
     "library": "var_list.r",
     "varRefreshCmd": "cat(var_dic_list()) "
    }
   },
   "types_to_exclude": [
    "module",
    "function",
    "builtin_function_or_method",
    "instance",
    "_Feature"
   ],
   "window_display": false
  }
 },
 "nbformat": 4,
 "nbformat_minor": 5
}
